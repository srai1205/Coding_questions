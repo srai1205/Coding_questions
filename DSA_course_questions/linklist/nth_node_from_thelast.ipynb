{
 "cells": [
  {
   "cell_type": "code",
   "execution_count": 10,
   "id": "cd063a2c",
   "metadata": {},
   "outputs": [],
   "source": [
    "class Node(object):\n",
    "    \n",
    "    def __init__(self,value):\n",
    "        self.value = value\n",
    "        self.nextnode = None\n",
    "    "
   ]
  },
  {
   "cell_type": "code",
   "execution_count": 15,
   "id": "c0522db0",
   "metadata": {},
   "outputs": [],
   "source": [
    "#my solution\n",
    "# this won't work as when you can assign none data type to Node datatype\n",
    "# when you assign check.nextnode to previous.our linklist will change to cyclic one \n",
    "\n",
    "\n",
    "def nthfromthelast(n,headnode):\n",
    "    \n",
    "    current = headnode\n",
    "    check = headnode\n",
    "    print(type(current))\n",
    "    previous = None\n",
    "    print(type(previous))\n",
    "    nextnode = None\n",
    "    \n",
    "    while current:\n",
    "        \n",
    "        nextnode = current.nextnode\n",
    "        current.nextnode = previous\n",
    "        previous = current\n",
    "        current = nextnode\n",
    "        \n",
    "    check.nextnode = previous\n",
    "    i = 1\n",
    "    while i<n:\n",
    "        previous = previous.nextnode\n",
    "        i=+1\n",
    "    return previous.value"
   ]
  },
  {
   "cell_type": "code",
   "execution_count": 24,
   "id": "422c171c",
   "metadata": {},
   "outputs": [],
   "source": [
    "a = Node(1)\n",
    "b = Node(2)\n",
    "c = Node(3)\n",
    "d = Node(4)\n",
    "e = Node(5)"
   ]
  },
  {
   "cell_type": "code",
   "execution_count": 25,
   "id": "ca528c27",
   "metadata": {},
   "outputs": [],
   "source": [
    "a.nextnode = b\n",
    "b.nextnode = c\n",
    "c.nextnode = d\n",
    "d.nextnode = e"
   ]
  },
  {
   "cell_type": "code",
   "execution_count": 38,
   "id": "63efa809",
   "metadata": {},
   "outputs": [],
   "source": [
    "def nth_to_lastNode(n,headnode):\n",
    "    \n",
    "    right_pointer = headnode\n",
    "    left_pointer = headnode\n",
    "    \n",
    "    for x in range(n):\n",
    "        \n",
    "        if not right_pointer.nextnode:\n",
    "            raise LookupError('Error: n is larger than linklist')\n",
    "        right_pointer = right_pointer.nextnode\n",
    "    \n",
    "    while right_pointer:\n",
    "        left_pointer = left_pointer.nextnode\n",
    "        right_pointer = right_pointer.nextnode\n",
    "    \n",
    "    return left_pointer"
   ]
  },
  {
   "cell_type": "code",
   "execution_count": 39,
   "id": "798da54c",
   "metadata": {},
   "outputs": [],
   "source": [
    "target_node = nth_to_lastNode(4,a)"
   ]
  },
  {
   "cell_type": "code",
   "execution_count": 40,
   "id": "089268c8",
   "metadata": {},
   "outputs": [
    {
     "name": "stdout",
     "output_type": "stream",
     "text": [
      "2\n"
     ]
    }
   ],
   "source": [
    "print(target_node.value)"
   ]
  },
  {
   "cell_type": "code",
   "execution_count": null,
   "id": "176ca9b2",
   "metadata": {},
   "outputs": [],
   "source": []
  }
 ],
 "metadata": {
  "kernelspec": {
   "display_name": "Python 3 (ipykernel)",
   "language": "python",
   "name": "python3"
  },
  "language_info": {
   "codemirror_mode": {
    "name": "ipython",
    "version": 3
   },
   "file_extension": ".py",
   "mimetype": "text/x-python",
   "name": "python",
   "nbconvert_exporter": "python",
   "pygments_lexer": "ipython3",
   "version": "3.8.12"
  }
 },
 "nbformat": 4,
 "nbformat_minor": 5
}
