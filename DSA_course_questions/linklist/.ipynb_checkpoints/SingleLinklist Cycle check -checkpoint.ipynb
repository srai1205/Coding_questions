{
 "cells": [
  {
   "cell_type": "code",
   "execution_count": 7,
   "id": "b944ff31",
   "metadata": {},
   "outputs": [],
   "source": [
    "class Node(object):\n",
    "    \n",
    "    def __init__(self,value):\n",
    "        self.value = value\n",
    "        self.nextnode = None\n",
    "    \n"
   ]
  },
  {
   "cell_type": "code",
   "execution_count": 6,
   "id": "f8ae2427",
   "metadata": {},
   "outputs": [],
   "source": [
    "#My solution in given below but it did work as node structure is not defined\n",
    "def cycle(nodee):        \n",
    "    while node.nextnode != nodee:\n",
    "        if node.nextnode is None:\n",
    "            return False\n",
    "        node = node.nextnode    \n",
    "    if node.nextnode == nodee:\n",
    "        return True\n",
    "    else:\n",
    "        return False"
   ]
  },
  {
   "cell_type": "code",
   "execution_count": 38,
   "id": "803b676a",
   "metadata": {},
   "outputs": [],
   "source": [
    "def cyclecheck(node): \n",
    "    marker1 = node\n",
    "    marker2 = node\n",
    "    while marker2 != None and marker2.nextnode != None:\n",
    "        \n",
    "        marker1 = marker1.nextnode\n",
    "        marker2 = marker2.nextnode.nextnode\n",
    "        \n",
    "        if marker1 == marker2:\n",
    "            return True\n",
    "    return False"
   ]
  },
  {
   "cell_type": "code",
   "execution_count": null,
   "id": "467a502e",
   "metadata": {},
   "outputs": [],
   "source": []
  },
  {
   "cell_type": "code",
   "execution_count": 42,
   "id": "70f517ee",
   "metadata": {},
   "outputs": [],
   "source": [
    "a = Node(1)\n",
    "b = Node(2)\n",
    "c = Node(3)"
   ]
  },
  {
   "cell_type": "code",
   "execution_count": 43,
   "id": "7f8f2ed0",
   "metadata": {},
   "outputs": [],
   "source": [
    "a.nextnode = b\n",
    "b.nextnode = c\n",
    "c.nextnode = a"
   ]
  },
  {
   "cell_type": "code",
   "execution_count": 44,
   "id": "d0061952",
   "metadata": {},
   "outputs": [
    {
     "data": {
      "text/plain": [
       "True"
      ]
     },
     "execution_count": 44,
     "metadata": {},
     "output_type": "execute_result"
    }
   ],
   "source": [
    "cyclecheck(a)"
   ]
  },
  {
   "cell_type": "code",
   "execution_count": 48,
   "id": "5d5f4e6d",
   "metadata": {},
   "outputs": [],
   "source": [
    "x = Node(1)\n",
    "y = Node(2)\n",
    "z = Node(3)\n"
   ]
  },
  {
   "cell_type": "code",
   "execution_count": 49,
   "id": "7e5b59a8",
   "metadata": {},
   "outputs": [],
   "source": [
    "x.nextnode = y\n",
    "y.nextnode = z\n"
   ]
  },
  {
   "cell_type": "code",
   "execution_count": 50,
   "id": "11704844",
   "metadata": {},
   "outputs": [
    {
     "data": {
      "text/plain": [
       "False"
      ]
     },
     "execution_count": 50,
     "metadata": {},
     "output_type": "execute_result"
    }
   ],
   "source": [
    "cyclecheck(x)"
   ]
  },
  {
   "cell_type": "code",
   "execution_count": null,
   "id": "09bddda6",
   "metadata": {},
   "outputs": [],
   "source": []
  }
 ],
 "metadata": {
  "kernelspec": {
   "display_name": "Python 3",
   "language": "python",
   "name": "python3"
  },
  "language_info": {
   "codemirror_mode": {
    "name": "ipython",
    "version": 3
   },
   "file_extension": ".py",
   "mimetype": "text/x-python",
   "name": "python",
   "nbconvert_exporter": "python",
   "pygments_lexer": "ipython3",
   "version": "3.8.8"
  }
 },
 "nbformat": 4,
 "nbformat_minor": 5
}
