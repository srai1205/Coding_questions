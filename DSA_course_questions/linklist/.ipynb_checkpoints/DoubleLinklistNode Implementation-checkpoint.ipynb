{
 "cells": [
  {
   "cell_type": "code",
   "execution_count": 1,
   "id": "fef6ac04",
   "metadata": {},
   "outputs": [],
   "source": [
    "class DoubleLinklistNode(object):\n",
    "    \n",
    "    def __init__(self,value):\n",
    "        self.value = value\n",
    "        self.nextnode = None\n",
    "        self.prevnode = None\n",
    "    \n",
    "        "
   ]
  },
  {
   "cell_type": "code",
   "execution_count": 3,
   "id": "27363f06",
   "metadata": {},
   "outputs": [],
   "source": [
    "a = DoubleLinklistNode(1)"
   ]
  },
  {
   "cell_type": "code",
   "execution_count": 4,
   "id": "d5bf7ee3",
   "metadata": {},
   "outputs": [],
   "source": [
    "b = DoubleLinklistNode(2)\n",
    "c = DoubleLinklistNode(3)"
   ]
  },
  {
   "cell_type": "code",
   "execution_count": 5,
   "id": "aede059b",
   "metadata": {},
   "outputs": [],
   "source": [
    "a.nextnode = b\n",
    "b.prevnode = a"
   ]
  },
  {
   "cell_type": "code",
   "execution_count": 6,
   "id": "b681b236",
   "metadata": {},
   "outputs": [],
   "source": [
    "b.nextnode = c\n",
    "c.prevnode = b"
   ]
  },
  {
   "cell_type": "code",
   "execution_count": 7,
   "id": "7645cfc9",
   "metadata": {},
   "outputs": [
    {
     "name": "stdout",
     "output_type": "stream",
     "text": [
      "<__main__.DoubleLinklistNode object at 0x0000024379183940>\n"
     ]
    }
   ],
   "source": [
    "print(a.nextnode)"
   ]
  },
  {
   "cell_type": "code",
   "execution_count": 9,
   "id": "b14008b6",
   "metadata": {},
   "outputs": [
    {
     "name": "stdout",
     "output_type": "stream",
     "text": [
      "yes\n"
     ]
    }
   ],
   "source": [
    "if a.nextnode == c.prevnode:\n",
    "    print(\"yes\")"
   ]
  },
  {
   "cell_type": "code",
   "execution_count": null,
   "id": "4ad7e442",
   "metadata": {},
   "outputs": [],
   "source": []
  }
 ],
 "metadata": {
  "kernelspec": {
   "display_name": "Python 3",
   "language": "python",
   "name": "python3"
  },
  "language_info": {
   "codemirror_mode": {
    "name": "ipython",
    "version": 3
   },
   "file_extension": ".py",
   "mimetype": "text/x-python",
   "name": "python",
   "nbconvert_exporter": "python",
   "pygments_lexer": "ipython3",
   "version": "3.8.8"
  }
 },
 "nbformat": 4,
 "nbformat_minor": 5
}
