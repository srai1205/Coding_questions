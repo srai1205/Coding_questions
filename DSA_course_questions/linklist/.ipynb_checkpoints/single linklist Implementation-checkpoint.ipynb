{
 "cells": [
  {
   "cell_type": "markdown",
   "id": "eff00169",
   "metadata": {},
   "source": [
    "# single linklist implementation "
   ]
  },
  {
   "cell_type": "code",
   "execution_count": 1,
   "id": "98febe26",
   "metadata": {},
   "outputs": [],
   "source": [
    "class node(object):\n",
    "    \n",
    "    def __init__(self,value):\n",
    "        \n",
    "        self.value = value\n",
    "        self.node = None\n",
    "        "
   ]
  },
  {
   "cell_type": "code",
   "execution_count": 2,
   "id": "45ac272d",
   "metadata": {},
   "outputs": [],
   "source": [
    "a = node(1)\n",
    "b = node(2)\n",
    "c = node(3)"
   ]
  },
  {
   "cell_type": "code",
   "execution_count": 3,
   "id": "66ff3856",
   "metadata": {},
   "outputs": [],
   "source": [
    "a.nextnode = b\n",
    "b.nextnode = c"
   ]
  },
  {
   "cell_type": "code",
   "execution_count": 4,
   "id": "2db01ad3",
   "metadata": {},
   "outputs": [],
   "source": [
    "a.node\n"
   ]
  },
  {
   "cell_type": "code",
   "execution_count": 5,
   "id": "ec0971d5",
   "metadata": {},
   "outputs": [
    {
     "data": {
      "text/plain": [
       "<__main__.node at 0x25711722b50>"
      ]
     },
     "execution_count": 5,
     "metadata": {},
     "output_type": "execute_result"
    }
   ],
   "source": [
    "b.nextnode"
   ]
  },
  {
   "cell_type": "code",
   "execution_count": 6,
   "id": "eea943f0",
   "metadata": {},
   "outputs": [],
   "source": [
    "b.node"
   ]
  },
  {
   "cell_type": "code",
   "execution_count": 7,
   "id": "cd2aa0e6",
   "metadata": {},
   "outputs": [],
   "source": [
    "class Node:\n",
    "    def __init__(self, data=None):\n",
    "        self.data = data\n",
    "        self.nextnode = None\n",
    "\n",
    "class LinkedList:\n",
    "    def __init__(self):\n",
    "        self.headnode = None\n",
    "\n",
    "    def printlist(self):\n",
    "        node = self.headnode\n",
    "        while node is not None:\n",
    "            print (node.data)\n",
    "            node = node.nextnode\n",
    "\n",
    "    def atbegining(self,new_node):\n",
    "        new_node.nextnode = self.headnode\n",
    "        self.headnode = new_node\n",
    "\n",
    "    # Function to add newnode\n",
    "    def AtEnd(self, newnode):\n",
    "        if self.headnode is None:\n",
    "            self.headnode = newnode\n",
    "            return\n",
    "        node = self.headnode\n",
    "        while(node.nextnode):\n",
    "            node = node.nextnode\n",
    "        node.nextnode=newnode\n",
    "\n",
    "    # Function to add node\n",
    "    def Inbetween(self,preNode,newNode):\n",
    "        if preNode is None:\n",
    "            print(\"The mentioned node is absent\")\n",
    "            return\n",
    "        newNode.nextnode = preNode.nextnode\n",
    "        preNode.nextnode = newNode\n",
    "\n",
    "    # Function to remove node\n",
    "    def RemoveNode(self, RemoveVal):\n",
    "\n",
    "        node = self.headnode\n",
    "\n",
    "        if (node is not None):\n",
    "            if (node.data == RemoveVal):\n",
    "                self.headnode = node.nextnode\n",
    "                node = None\n",
    "                return\n",
    "\n",
    "        while (node is not None):\n",
    "            if node.data == RemoveVal:\n",
    "                break\n",
    "            prevnode = node\n",
    "            node = node.nextnode\n",
    "\n",
    "        if (node == None):\n",
    "            return\n",
    "\n",
    "        prevnode.nextnode = node.nextnode\n",
    "\n",
    "        node = None"
   ]
  },
  {
   "cell_type": "code",
   "execution_count": 8,
   "id": "f9f3cb28",
   "metadata": {},
   "outputs": [],
   "source": [
    "\n",
    "list1 = LinkedList()\n",
    "list1.headnode = Node(\"Mon\")\n",
    "n2 = Node(\"Tue\")\n",
    "n3 = Node(\"Wed\")\n",
    "# Link first Node to second node\n",
    "list1.headnode.nextnode = n2\n",
    "# Link second Node to third node\n",
    "n2.nextnode = n3\n"
   ]
  },
  {
   "cell_type": "code",
   "execution_count": 9,
   "id": "b0ad787c",
   "metadata": {},
   "outputs": [
    {
     "name": "stdout",
     "output_type": "stream",
     "text": [
      "Mon\n",
      "Tue\n",
      "Wed\n"
     ]
    }
   ],
   "source": [
    "list1.printlist()"
   ]
  },
  {
   "cell_type": "code",
   "execution_count": 10,
   "id": "c3c84573",
   "metadata": {},
   "outputs": [],
   "source": [
    "n4 = Node(\"Sun\")\n",
    "n5 = Node(\"Tur\")\n",
    "n6 = Node(\"Newdate\")\n",
    "\n"
   ]
  },
  {
   "cell_type": "code",
   "execution_count": 11,
   "id": "d169ca6d",
   "metadata": {},
   "outputs": [],
   "source": [
    "list1.atbegining(n4)\n"
   ]
  },
  {
   "cell_type": "code",
   "execution_count": 12,
   "id": "203bd22b",
   "metadata": {},
   "outputs": [
    {
     "name": "stdout",
     "output_type": "stream",
     "text": [
      "Sun\n",
      "Mon\n",
      "Tue\n",
      "Wed\n"
     ]
    }
   ],
   "source": [
    "list1.printlist()"
   ]
  },
  {
   "cell_type": "code",
   "execution_count": 13,
   "id": "ccb92ae0",
   "metadata": {},
   "outputs": [
    {
     "name": "stdout",
     "output_type": "stream",
     "text": [
      "Sun\n",
      "Mon\n",
      "Tue\n",
      "Wed\n",
      "Tur\n"
     ]
    }
   ],
   "source": [
    "list1.AtEnd(n5)\n",
    "list1.printlist()\n"
   ]
  },
  {
   "cell_type": "code",
   "execution_count": null,
   "id": "998e2ffd",
   "metadata": {},
   "outputs": [],
   "source": []
  }
 ],
 "metadata": {
  "kernelspec": {
   "display_name": "Python 3",
   "language": "python",
   "name": "python3"
  },
  "language_info": {
   "codemirror_mode": {
    "name": "ipython",
    "version": 3
   },
   "file_extension": ".py",
   "mimetype": "text/x-python",
   "name": "python",
   "nbconvert_exporter": "python",
   "pygments_lexer": "ipython3",
   "version": "3.8.8"
  }
 },
 "nbformat": 4,
 "nbformat_minor": 5
}
