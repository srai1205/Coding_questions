{
 "cells": [
  {
   "cell_type": "code",
   "execution_count": 24,
   "id": "bf6ab844",
   "metadata": {},
   "outputs": [
    {
     "name": "stdout",
     "output_type": "stream",
     "text": [
      "[9, 8, 7, 6, 5, 4, 3, 2, 1]\n",
      "0\n",
      "1\n",
      "2\n",
      "[9, 8, 7, 6, 5, 4, 3, 1, 2]\n",
      "[2, 1, 3, 4, 5, 6, 7, 8, 9]\n"
     ]
    }
   ],
   "source": [
    "digit = 987654321\n",
    "listmain = []\n",
    "inputt = digit\n",
    "while digit >1:\n",
    "    num = digit%10\n",
    "    listmain.insert(0,num)\n",
    "    digit = int(digit/10)\n",
    "\n",
    "print(listmain)\n",
    "n = len(listmain)\n",
    "for i in range(n-1,0,-1):\n",
    "    if listmain[i] > listmain[i-1]:\n",
    "        break\n",
    "    i-=1\n",
    "print(i)\n",
    "change1 = listmain[i-1]\n",
    "change1index = i-1\n",
    "change1test = listmain[i-1]\n",
    "print(change1test)\n",
    "for k in range(n-1,i,-1):\n",
    "    if change1test < listmain[k]:\n",
    "        change1test = listmain[k]\n",
    "        break\n",
    "print(change1test)\n",
    "listmain[k],listmain[i-1] = listmain[i-1],listmain[k]\n",
    "print(listmain)\n",
    "listmain[i:] = reversed(listmain[i:])\n",
    "print(listmain)"
   ]
  },
  {
   "cell_type": "code",
   "execution_count": 1,
   "id": "3211c16b",
   "metadata": {},
   "outputs": [
    {
     "name": "stdout",
     "output_type": "stream",
     "text": [
      "5\n",
      "4\n",
      "3\n",
      "2\n",
      "1\n"
     ]
    }
   ],
   "source": [
    "n = 6\n",
    "for i in range(n-1,0,-1):\n",
    "    print(i)"
   ]
  },
  {
   "cell_type": "code",
   "execution_count": 6,
   "id": "9dd5ae09",
   "metadata": {},
   "outputs": [
    {
     "data": {
      "text/plain": [
       "53497.6"
      ]
     },
     "execution_count": 6,
     "metadata": {},
     "output_type": "execute_result"
    }
   ],
   "source": [
    "534976/10"
   ]
  },
  {
   "cell_type": "code",
   "execution_count": 37,
   "id": "294f564d",
   "metadata": {},
   "outputs": [],
   "source": [
    "def isHappy(n: int):\n",
    "        k =1\n",
    "        while k != 2:\n",
    "            li = []\n",
    "            while n >= 1:\n",
    "                li.append(n%10)\n",
    "                n = n//10\n",
    "            #print(li)\n",
    "            total = 0 \n",
    "            for i in li:\n",
    "                total = i*i + total\n",
    "            #print(total)\n",
    "            if total <= 9:\n",
    "                k = 2\n",
    "                n= 0\n",
    "            else:\n",
    "                n = total\n",
    "        if total == 1:\n",
    "            return True\n",
    "        else:\n",
    "            return False"
   ]
  },
  {
   "cell_type": "code",
   "execution_count": 49,
   "id": "88eec17e",
   "metadata": {},
   "outputs": [
    {
     "name": "stdout",
     "output_type": "stream",
     "text": [
      "1111111\n",
      "7\n",
      "49\n",
      "97\n",
      "130\n",
      "10\n"
     ]
    },
    {
     "data": {
      "text/plain": [
       "True"
      ]
     },
     "execution_count": 49,
     "metadata": {},
     "output_type": "execute_result"
    }
   ],
   "source": [
    "isHappy(1111111)"
   ]
  },
  {
   "cell_type": "code",
   "execution_count": 48,
   "id": "26219391",
   "metadata": {},
   "outputs": [],
   "source": [
    "def isHappy(n):\n",
    "\n",
    "    def get_next(n):\n",
    "        total_sum = 0\n",
    "        while n > 0:\n",
    "            n, digit = divmod(n, 10)\n",
    "            total_sum += digit ** 2\n",
    "        return total_sum\n",
    "\n",
    "    seen = set()\n",
    "    while n != 1 and n not in seen:\n",
    "        seen.add(n)\n",
    "        print(n)\n",
    "        n = get_next(n)\n",
    "\n",
    "    return n == 1\n"
   ]
  },
  {
   "cell_type": "code",
   "execution_count": 45,
   "id": "cfbb3204",
   "metadata": {},
   "outputs": [],
   "source": [
    "n = 19\n",
    "n, digit = divmod(n, 10)"
   ]
  },
  {
   "cell_type": "code",
   "execution_count": 47,
   "id": "576fce52",
   "metadata": {},
   "outputs": [
    {
     "name": "stdout",
     "output_type": "stream",
     "text": [
      "1 9\n"
     ]
    }
   ],
   "source": [
    "print(n,digit)"
   ]
  },
  {
   "cell_type": "code",
   "execution_count": null,
   "id": "c04c4c28",
   "metadata": {},
   "outputs": [],
   "source": []
  }
 ],
 "metadata": {
  "kernelspec": {
   "display_name": "Python 3 (ipykernel)",
   "language": "python",
   "name": "python3"
  },
  "language_info": {
   "codemirror_mode": {
    "name": "ipython",
    "version": 3
   },
   "file_extension": ".py",
   "mimetype": "text/x-python",
   "name": "python",
   "nbconvert_exporter": "python",
   "pygments_lexer": "ipython3",
   "version": "3.9.13"
  }
 },
 "nbformat": 4,
 "nbformat_minor": 5
}
