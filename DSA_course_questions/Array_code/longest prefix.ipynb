{
 "cells": [
  {
   "cell_type": "code",
   "execution_count": 3,
   "id": "7e80b61b",
   "metadata": {},
   "outputs": [
    {
     "name": "stdout",
     "output_type": "stream",
     "text": [
      "i\n",
      "fl\n"
     ]
    }
   ],
   "source": [
    "def longest_common_prefix(strs):\n",
    "    if not strs:\n",
    "        return \"\"\n",
    "\n",
    "    for i in range(len(strs[0])):\n",
    "        char = strs[0][i]\n",
    "        for string in strs[1:]:\n",
    "            if i >= len(string) or string[i] != char:\n",
    "                print(string[i])\n",
    "                return strs[0][:i]\n",
    "\n",
    "    return strs[0]\n",
    "\n",
    "# Example usage\n",
    "print(longest_common_prefix([\"flower\", \"flow\", \"flight\"]))  # Output: \"fl\"\n",
    "#print(longest_common_prefix([\"dog\", \"racecar\", \"car\"]))     # Output: \"\"\n"
   ]
  },
  {
   "cell_type": "code",
   "execution_count": 5,
   "id": "d0465603",
   "metadata": {},
   "outputs": [
    {
     "name": "stdout",
     "output_type": "stream",
     "text": [
      "s\n"
     ]
    }
   ],
   "source": [
    "stri = 'sourabh'\n",
    "print(stri[0][:1])"
   ]
  },
  {
   "cell_type": "code",
   "execution_count": null,
   "id": "2b2a2046",
   "metadata": {},
   "outputs": [],
   "source": []
  }
 ],
 "metadata": {
  "kernelspec": {
   "display_name": "Python 3 (ipykernel)",
   "language": "python",
   "name": "python3"
  },
  "language_info": {
   "codemirror_mode": {
    "name": "ipython",
    "version": 3
   },
   "file_extension": ".py",
   "mimetype": "text/x-python",
   "name": "python",
   "nbconvert_exporter": "python",
   "pygments_lexer": "ipython3",
   "version": "3.9.13"
  }
 },
 "nbformat": 4,
 "nbformat_minor": 5
}
