{
 "cells": [
  {
   "cell_type": "code",
   "execution_count": 1,
   "id": "3f55bf74",
   "metadata": {},
   "outputs": [
    {
     "name": "stdout",
     "output_type": "stream",
     "text": [
      "[[1, 9], [2, 4], [4, 7], [6, 8]]\n",
      "[[1, 9]]\n",
      "The Merged Intervals are : [1, 9] "
     ]
    }
   ],
   "source": [
    "def mergeIntervals(intervals):\n",
    "    # Sort the array on the basis of start values of intervals.\n",
    "    intervals.sort()\n",
    "    print(intervals)\n",
    "    stack = []\n",
    "    # insert first interval into stack\n",
    "    stack.append(intervals[0])\n",
    "    print(stack)\n",
    "    for i in intervals[1:]:\n",
    "        # Check for overlapping interval,\n",
    "        # if interval overlap\n",
    "        if stack[-1][0] <= i[0] <= stack[-1][-1]:\n",
    "            stack[-1][-1] = max(stack[-1][-1], i[-1])\n",
    "        else:\n",
    "            stack.append(i)\n",
    " \n",
    "    print(\"The Merged Intervals are :\", end=\" \")\n",
    "    for i in range(len(stack)):\n",
    "        print(stack[i], end=\" \")\n",
    " \n",
    " \n",
    "arr = [[6, 8], [1, 9], [2, 4], [4, 7]]\n",
    "#arr =  [[1,3],[2,4],[6,8],[9,10]]\n",
    "mergeIntervals(arr)\n"
   ]
  },
  {
   "cell_type": "code",
   "execution_count": 7,
   "id": "a6d1ea3a",
   "metadata": {},
   "outputs": [
    {
     "data": {
      "text/plain": [
       "71"
      ]
     },
     "execution_count": 7,
     "metadata": {},
     "output_type": "execute_result"
    }
   ],
   "source": [
    "ord('G')"
   ]
  },
  {
   "cell_type": "code",
   "execution_count": 8,
   "id": "b0873e61",
   "metadata": {},
   "outputs": [
    {
     "name": "stdout",
     "output_type": "stream",
     "text": [
      "0\n",
      "1\n",
      "2\n",
      "3\n",
      "4\n",
      "1\n",
      "2\n",
      "3\n",
      "4\n"
     ]
    }
   ],
   "source": [
    "\n",
    "n= 5\n",
    "for i in range(n):\n",
    "    print(i)\n",
    "for i in range(1,n):\n",
    "    print(i)"
   ]
  },
  {
   "cell_type": "code",
   "execution_count": null,
   "id": "7d4fe41d",
   "metadata": {},
   "outputs": [],
   "source": []
  }
 ],
 "metadata": {
  "kernelspec": {
   "display_name": "Python 3 (ipykernel)",
   "language": "python",
   "name": "python3"
  },
  "language_info": {
   "codemirror_mode": {
    "name": "ipython",
    "version": 3
   },
   "file_extension": ".py",
   "mimetype": "text/x-python",
   "name": "python",
   "nbconvert_exporter": "python",
   "pygments_lexer": "ipython3",
   "version": "3.8.12"
  }
 },
 "nbformat": 4,
 "nbformat_minor": 5
}
