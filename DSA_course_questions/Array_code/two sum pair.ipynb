{
 "cells": [
  {
   "cell_type": "code",
   "execution_count": 44,
   "metadata": {},
   "outputs": [],
   "source": [
    "#In this solution time complexity is O(n^2) i.e inefficient  \n",
    "def pairsum(arr,z):\n",
    "    k = 0\n",
    "    li = set()\n",
    "    if len(arr)<2:\n",
    "        return \n",
    "    ar = arr\n",
    "    for i in arr:\n",
    "        k +=1\n",
    "        for j in range(k,len(arr)):\n",
    "            s = i + arr[j]\n",
    "            if s == z:\n",
    "                \"\"\"if arr[j] < i:\n",
    "                    x = (arr[j],i)\n",
    "                else:\n",
    "                    x = (i,arr[j])\"\"\"\n",
    "                x = (min(i,arr[j]),max(i,arr[j]))\n",
    "                if x is not li:\n",
    "                    li.add(x)\n",
    "                break\n",
    "    print(li)\n",
    "    return len(li)\n",
    "        "
   ]
  },
  {
   "cell_type": "code",
   "execution_count": 45,
   "metadata": {},
   "outputs": [
    {
     "name": "stdout",
     "output_type": "stream",
     "text": [
      "{(-1, 11), (5, 5), (3, 7), (4, 6), (1, 9), (2, 8)}\n"
     ]
    },
    {
     "data": {
      "text/plain": [
       "6"
      ]
     },
     "execution_count": 45,
     "metadata": {},
     "output_type": "execute_result"
    }
   ],
   "source": [
    "arr = [1,9,2,8,3,7,4,6,5,5,13,14,11,13,-1]\n",
    "#arr = [1,3,2,2]\n",
    "#arr = [1,2,3,1]\n",
    "k = 10\n",
    "pairsum(arr,k)"
   ]
  },
  {
   "cell_type": "code",
   "execution_count": 39,
   "metadata": {},
   "outputs": [
    {
     "name": "stdout",
     "output_type": "stream",
     "text": [
      "['sourabh', 'rounak', 'sourabh']\n",
      "{1, 2}\n",
      "{2}\n"
     ]
    }
   ],
   "source": [
    "#for list is not thing didnt work hence we have to use set in place f it \n",
    "lis = ['sourabh','rounak']\n",
    "x = 'sourabh'\n",
    "if x is not lis:\n",
    "    lis.append(x)\n",
    "print(lis)\n",
    "\n",
    "li = set()\n",
    "li.add(1)\n",
    "li.add(2)\n",
    "print(li)\n",
    "li.remove(1)\n",
    "print(li)"
   ]
  },
  {
   "cell_type": "code",
   "execution_count": 20,
   "metadata": {},
   "outputs": [],
   "source": [
    "# correct solution is \n",
    "#  logic:-  \n",
    "def pair_sum(arr,k):\n",
    "    \n",
    "    if len(arr)<2:\n",
    "        return \n",
    "    \n",
    "    #sets for tracking\n",
    "    seen = set()\n",
    "    output = set()\n",
    "    \n",
    "    for num in arr:\n",
    "        \n",
    "        target = k - num\n",
    "        \n",
    "        if target not in seen:\n",
    "            seen.add(num)\n",
    "        else:\n",
    "            output.add((min(num,target),max(num,target)))\n",
    "    print(output)\n",
    "    return len(output)\n",
    "        "
   ]
  },
  {
   "cell_type": "code",
   "execution_count": 41,
   "metadata": {},
   "outputs": [
    {
     "data": {
      "text/plain": [
       "1"
      ]
     },
     "execution_count": 41,
     "metadata": {},
     "output_type": "execute_result"
    }
   ],
   "source": [
    "arr = [1,2,3,1]\n",
    "k = 3\n",
    "pair_sum(arr,k)"
   ]
  },
  {
   "cell_type": "code",
   "execution_count": 2,
   "metadata": {},
   "outputs": [
    {
     "name": "stdout",
     "output_type": "stream",
     "text": [
      "{(1, 9)}\n"
     ]
    },
    {
     "data": {
      "text/plain": [
       "1"
      ]
     },
     "execution_count": 2,
     "metadata": {},
     "output_type": "execute_result"
    }
   ],
   "source": [
    "arr = [1,9]\n",
    "k = 10\n",
    "pair_sum(arr,k)"
   ]
  },
  {
   "cell_type": "code",
   "execution_count": 21,
   "metadata": {},
   "outputs": [
    {
     "name": "stdout",
     "output_type": "stream",
     "text": [
      "{(-1, 11), (5, 5), (3, 7), (4, 6), (1, 9), (2, 8)}\n"
     ]
    },
    {
     "data": {
      "text/plain": [
       "6"
      ]
     },
     "execution_count": 21,
     "metadata": {},
     "output_type": "execute_result"
    }
   ],
   "source": [
    "arr = [1,9,2,8,3,7,4,6,5,5,13,5,14,11,13,-1]\n",
    "#arr = [1,3,2,2]\n",
    "#arr = [1,2,3,1]\n",
    "k = 10\n",
    "pair_sum(arr,k)"
   ]
  },
  {
   "cell_type": "code",
   "execution_count": 1,
   "metadata": {},
   "outputs": [],
   "source": [
    "x = set()\n",
    "x.add((1,2))"
   ]
  },
  {
   "cell_type": "code",
   "execution_count": 2,
   "metadata": {},
   "outputs": [
    {
     "data": {
      "text/plain": [
       "{(1, 2)}"
      ]
     },
     "execution_count": 2,
     "metadata": {},
     "output_type": "execute_result"
    }
   ],
   "source": [
    "x"
   ]
  },
  {
   "cell_type": "code",
   "execution_count": 3,
   "metadata": {},
   "outputs": [],
   "source": [
    "x.add((1,2))"
   ]
  },
  {
   "cell_type": "code",
   "execution_count": 4,
   "metadata": {},
   "outputs": [
    {
     "data": {
      "text/plain": [
       "{(1, 2)}"
      ]
     },
     "execution_count": 4,
     "metadata": {},
     "output_type": "execute_result"
    }
   ],
   "source": [
    "x"
   ]
  },
  {
   "cell_type": "code",
   "execution_count": 22,
   "metadata": {},
   "outputs": [],
   "source": [
    "def pair(li,k):\n",
    "    fv = len(li)\n",
    "    index = 0\n",
    "    fli = set()\n",
    "    for i in li:\n",
    "        index += 1\n",
    "        target = k - i\n",
    "        if target in li[index: fv]:\n",
    "            fli.add((min(i, target),max(i, target)))\n",
    "    return fli"
   ]
  },
  {
   "cell_type": "code",
   "execution_count": 23,
   "metadata": {},
   "outputs": [
    {
     "data": {
      "text/plain": [
       "{(-1, 11), (1, 9), (2, 8), (3, 7), (4, 6), (5, 5)}"
      ]
     },
     "execution_count": 23,
     "metadata": {},
     "output_type": "execute_result"
    }
   ],
   "source": [
    "arr = [1,9,2,8,3,7,4,6,5,5,13,14,11,13,5,-1]\n",
    "#arr = [1,3,2,2]\n",
    "#arr = [1,2,3,1]\n",
    "k = 10\n",
    "type(arr)\n",
    "pair(arr,k)"
   ]
  },
  {
   "cell_type": "code",
   "execution_count": null,
   "metadata": {},
   "outputs": [],
   "source": []
  }
 ],
 "metadata": {
  "kernelspec": {
   "display_name": "Python 3 (ipykernel)",
   "language": "python",
   "name": "python3"
  },
  "language_info": {
   "codemirror_mode": {
    "name": "ipython",
    "version": 3
   },
   "file_extension": ".py",
   "mimetype": "text/x-python",
   "name": "python",
   "nbconvert_exporter": "python",
   "pygments_lexer": "ipython3",
   "version": "3.9.13"
  }
 },
 "nbformat": 4,
 "nbformat_minor": 4
}
