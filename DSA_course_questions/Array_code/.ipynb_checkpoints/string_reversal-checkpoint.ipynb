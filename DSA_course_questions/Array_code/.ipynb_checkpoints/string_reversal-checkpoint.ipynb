{
 "cells": [
  {
   "cell_type": "code",
   "execution_count": 39,
   "metadata": {},
   "outputs": [],
   "source": [
    "#my solution.it didn't work for multiple space within the sentence\n",
    "def reversal(st):\n",
    "    st1 = \"\"\n",
    "    st = st.strip()\n",
    "    li = st.split(\" \")\n",
    "    for i in li[::-1]:\n",
    "        st1  = st1 +\" \"+i\n",
    "    return st1"
   ]
  },
  {
   "cell_type": "code",
   "execution_count": 42,
   "metadata": {},
   "outputs": [
    {
     "data": {
      "text/plain": [
       "' best the    is this'"
      ]
     },
     "execution_count": 42,
     "metadata": {},
     "output_type": "execute_result"
    }
   ],
   "source": [
    "st = '       this is    the best                 '\n",
    "reversal(st)"
   ]
  },
  {
   "cell_type": "code",
   "execution_count": 67,
   "metadata": {},
   "outputs": [],
   "source": [
    "#udemy solution\n",
    "def reversal1(st):\n",
    "    spaces= [\" \"]\n",
    "    words= []\n",
    "    st = st.strip()\n",
    "    lenn = len(st)\n",
    "    print(lenn)\n",
    "    i=0\n",
    "    while i<lenn:\n",
    "        if st[i] not in spaces:\n",
    "            word_start = i\n",
    "            while i < lenn and st[i] not in spaces:\n",
    "                i+=1\n",
    "            words.append(st[word_start:i])\n",
    "        i+=1\n",
    "        \n",
    "    return \" \".join(reversed(words))"
   ]
  },
  {
   "cell_type": "code",
   "execution_count": 68,
   "metadata": {},
   "outputs": [
    {
     "name": "stdout",
     "output_type": "stream",
     "text": [
      "19\n"
     ]
    },
    {
     "data": {
      "text/plain": [
       "'best the is this'"
      ]
     },
     "execution_count": 68,
     "metadata": {},
     "output_type": "execute_result"
    }
   ],
   "source": [
    "st = '       this is    the best                 '\n",
    "reversal1(st)"
   ]
  },
  {
   "cell_type": "code",
   "execution_count": null,
   "metadata": {},
   "outputs": [],
   "source": []
  }
 ],
 "metadata": {
  "kernelspec": {
   "display_name": "Python 3",
   "language": "python",
   "name": "python3"
  },
  "language_info": {
   "codemirror_mode": {
    "name": "ipython",
    "version": 3
   },
   "file_extension": ".py",
   "mimetype": "text/x-python",
   "name": "python",
   "nbconvert_exporter": "python",
   "pygments_lexer": "ipython3",
   "version": "3.8.5"
  }
 },
 "nbformat": 4,
 "nbformat_minor": 4
}
