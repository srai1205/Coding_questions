{
 "cells": [
  {
   "cell_type": "code",
   "execution_count": 20,
   "id": "f6013a06",
   "metadata": {},
   "outputs": [
    {
     "name": "stdout",
     "output_type": "stream",
     "text": [
      "[5, 3, 6, 4, 7, 9]\n",
      "7\n",
      "[5, 3, 6, 4, 9, 7]\n",
      "[5, 3, 6, 4, 9, 7]\n"
     ]
    }
   ],
   "source": [
    "digit = 536479\n",
    "listmain = []\n",
    "inputt = digit\n",
    "while digit >1:\n",
    "    num = digit%10\n",
    "    listmain.insert(0,num)\n",
    "    digit = int(digit/10)\n",
    "\n",
    "print(listmain)\n",
    "n = len(listmain)\n",
    "for i in range(n-1,0,-1):\n",
    "    if listmain[i] > listmain[i-1]:\n",
    "        break\n",
    "    i-=1\n",
    "change1 = listmain[i-1]\n",
    "change1index = i-1\n",
    "change1test = change1\n",
    "indicator = 0\n",
    "for k in range(n-1,i,-1):\n",
    "    if change1test < listmain[k]:\n",
    "        change1test = listmain[k]\n",
    "        break\n",
    "print(change1test)\n",
    "listmain[k],listmain[i-1] = listmain[i-1],listmain[k]\n",
    "print(listmain)\n",
    "listmain[i:] = reversed(listmain[i:])\n",
    "print(listmain)"
   ]
  },
  {
   "cell_type": "code",
   "execution_count": 1,
   "id": "b9e8a552",
   "metadata": {},
   "outputs": [
    {
     "name": "stdout",
     "output_type": "stream",
     "text": [
      "5\n",
      "4\n",
      "3\n",
      "2\n",
      "1\n"
     ]
    }
   ],
   "source": [
    "n = 6\n",
    "for i in range(n-1,0,-1):\n",
    "    print(i)"
   ]
  },
  {
   "cell_type": "code",
   "execution_count": 6,
   "id": "2448e32d",
   "metadata": {},
   "outputs": [
    {
     "data": {
      "text/plain": [
       "53497.6"
      ]
     },
     "execution_count": 6,
     "metadata": {},
     "output_type": "execute_result"
    }
   ],
   "source": [
    "534976/10"
   ]
  },
  {
   "cell_type": "code",
   "execution_count": null,
   "id": "cb897648",
   "metadata": {},
   "outputs": [],
   "source": []
  }
 ],
 "metadata": {
  "kernelspec": {
   "display_name": "Python 3 (ipykernel)",
   "language": "python",
   "name": "python3"
  },
  "language_info": {
   "codemirror_mode": {
    "name": "ipython",
    "version": 3
   },
   "file_extension": ".py",
   "mimetype": "text/x-python",
   "name": "python",
   "nbconvert_exporter": "python",
   "pygments_lexer": "ipython3",
   "version": "3.8.12"
  }
 },
 "nbformat": 4,
 "nbformat_minor": 5
}
