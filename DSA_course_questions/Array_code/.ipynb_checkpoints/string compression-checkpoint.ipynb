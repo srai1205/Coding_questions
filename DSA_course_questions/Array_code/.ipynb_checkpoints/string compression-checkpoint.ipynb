{
 "cells": [
  {
   "cell_type": "code",
   "execution_count": 23,
   "metadata": {},
   "outputs": [],
   "source": [
    "#my code. unnessary use list.same thing can be done with the  help of string  \n",
    "def compress(st):\n",
    "    count = 1\n",
    "    li = []\n",
    "    for i in range(1,len(st)):\n",
    "        if st[i] ==  st[i-1]:\n",
    "            count+=1\n",
    "        else:\n",
    "            num = str(count)\n",
    "            con = st[i-1] + num\n",
    "            li.append(con)\n",
    "            count = 1\n",
    "        i+=1\n",
    "    num = str(count)\n",
    "    con = st[i-1] + num\n",
    "    li.append(con)\n",
    "    return (\"\".join(li))"
   ]
  },
  {
   "cell_type": "code",
   "execution_count": 24,
   "metadata": {},
   "outputs": [
    {
     "name": "stdout",
     "output_type": "stream",
     "text": [
      "A3S3W1q1Q1E4\n"
     ]
    }
   ],
   "source": [
    "st = 'AAASSSWqQEEEESSS'\n",
    "x = compress(st)\n",
    "print(x)"
   ]
  },
  {
   "cell_type": "code",
   "execution_count": 26,
   "metadata": {},
   "outputs": [],
   "source": [
    "#udemy code\n",
    "def compress1(st):\n",
    "    count = 1\n",
    "    r = ''\n",
    "    for i in range(1,len(st)):\n",
    "        if st[i] ==  st[i-1]:\n",
    "            count+=1\n",
    "        else:\n",
    "            r = r + st[i-1] + str(count)\n",
    "            count = 1\n",
    "        i+=1\n",
    "    r = r + st[i-1] + str(count)\n",
    "    return r"
   ]
  },
  {
   "cell_type": "code",
   "execution_count": 27,
   "metadata": {},
   "outputs": [
    {
     "name": "stdout",
     "output_type": "stream",
     "text": [
      "A3S3W1q1Q1E4S3\n"
     ]
    }
   ],
   "source": [
    "st = 'AAASSSWqQEEEESSS'\n",
    "x = compress1(st)\n",
    "print(x)"
   ]
  },
  {
   "cell_type": "code",
   "execution_count": null,
   "metadata": {},
   "outputs": [],
   "source": []
  }
 ],
 "metadata": {
  "kernelspec": {
   "display_name": "Python 3",
   "language": "python",
   "name": "python3"
  },
  "language_info": {
   "codemirror_mode": {
    "name": "ipython",
    "version": 3
   },
   "file_extension": ".py",
   "mimetype": "text/x-python",
   "name": "python",
   "nbconvert_exporter": "python",
   "pygments_lexer": "ipython3",
   "version": "3.8.5"
  }
 },
 "nbformat": 4,
 "nbformat_minor": 4
}
