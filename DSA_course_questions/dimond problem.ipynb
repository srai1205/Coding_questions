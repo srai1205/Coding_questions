{
 "cells": [
  {
   "cell_type": "markdown",
   "id": "1c7bb036",
   "metadata": {},
   "source": [
    "# The order of Diamond problem is D -> B -> C -> A \n",
    "This is also known as Method resolution order"
   ]
  },
  {
   "cell_type": "code",
   "execution_count": 7,
   "id": "f569cccd",
   "metadata": {},
   "outputs": [
    {
     "name": "stdout",
     "output_type": "stream",
     "text": [
      "From B\n"
     ]
    }
   ],
   "source": [
    "class A:\n",
    "    def do_thing(self):\n",
    "        print('From A')\n",
    "\n",
    "class B(A):\n",
    "    def do_thing(self):\n",
    "        print('From B')\n",
    "\n",
    "class C(A):\n",
    "    def do_thing(self):\n",
    "        print('From C')\n",
    "\n",
    "class D(B, C):\n",
    "    pass\n",
    "\n",
    "d = D()\n",
    "d.do_thing()"
   ]
  },
  {
   "cell_type": "code",
   "execution_count": 5,
   "id": "f5610a6e",
   "metadata": {},
   "outputs": [
    {
     "name": "stdout",
     "output_type": "stream",
     "text": [
      "From C\n"
     ]
    }
   ],
   "source": [
    "class A:\n",
    "    def do_thing1(self):\n",
    "        print('From A')\n",
    "\n",
    "class B(A):\n",
    "    def do_thing(self):\n",
    "        print('From B')\n",
    "\n",
    "class C(A):\n",
    "    def do_thing1(self):\n",
    "        print('From C')\n",
    "\n",
    "class D(B, C):\n",
    "    pass\n",
    "\n",
    "d = D()\n",
    "d.do_thing1()"
   ]
  },
  {
   "cell_type": "code",
   "execution_count": 6,
   "id": "d017d85a",
   "metadata": {},
   "outputs": [
    {
     "name": "stdout",
     "output_type": "stream",
     "text": [
      "From A\n"
     ]
    }
   ],
   "source": [
    "class A:\n",
    "    def do_thing12(self):\n",
    "        print('From A')\n",
    "\n",
    "class B(A):\n",
    "    def do_thing(self):\n",
    "        print('From B')\n",
    "\n",
    "class C(A):\n",
    "    def do_thing1(self):\n",
    "        print('From C')\n",
    "\n",
    "class D(B, C):\n",
    "    pass\n",
    "\n",
    "d = D()\n",
    "d.do_thing12()"
   ]
  },
  {
   "cell_type": "code",
   "execution_count": null,
   "id": "d7fc3494",
   "metadata": {},
   "outputs": [],
   "source": []
  },
  {
   "cell_type": "code",
   "execution_count": null,
   "id": "88443894",
   "metadata": {},
   "outputs": [],
   "source": []
  }
 ],
 "metadata": {
  "kernelspec": {
   "display_name": "Python 3 (ipykernel)",
   "language": "python",
   "name": "python3"
  },
  "language_info": {
   "codemirror_mode": {
    "name": "ipython",
    "version": 3
   },
   "file_extension": ".py",
   "mimetype": "text/x-python",
   "name": "python",
   "nbconvert_exporter": "python",
   "pygments_lexer": "ipython3",
   "version": "3.8.12"
  }
 },
 "nbformat": 4,
 "nbformat_minor": 5
}
