{
 "cells": [
  {
   "cell_type": "code",
   "execution_count": 11,
   "id": "77002c2f",
   "metadata": {},
   "outputs": [],
   "source": [
    "class Node:\n",
    "    \n",
    "    def __init__(self,val=None):\n",
    "        self.val = val\n",
    "        self.left = None\n",
    "        self.right = None\n"
   ]
  },
  {
   "cell_type": "code",
   "execution_count": 21,
   "id": "bb8bf762",
   "metadata": {},
   "outputs": [],
   "source": [
    "r = Node(8)\n",
    "r.left = Node(3)\n",
    "r.right = Node(10)\n",
    "r.right.left = Node(1)\n",
    "r.right.right = Node(13)\n",
    "r.left.right = Node(16)"
   ]
  },
  {
   "cell_type": "code",
   "execution_count": 22,
   "id": "3bea7e21",
   "metadata": {},
   "outputs": [],
   "source": [
    "def trimBST(tree,minval,maxval):\n",
    "    if tree == None:\n",
    "        return 0\n",
    "    else:\n",
    "        if  minval <= tree.val <= maxval:\n",
    "            return tree\n",
    "        if tree.val < minval:\n",
    "            return tree.right\n",
    "        if tree.val > maxval:\n",
    "            return tree.left"
   ]
  },
  {
   "cell_type": "code",
   "execution_count": 23,
   "id": "6fabfea1",
   "metadata": {},
   "outputs": [],
   "source": [
    "x = trimBST(r,2,13)"
   ]
  },
  {
   "cell_type": "code",
   "execution_count": 24,
   "id": "37ab4265",
   "metadata": {},
   "outputs": [
    {
     "data": {
      "text/plain": [
       "8"
      ]
     },
     "execution_count": 24,
     "metadata": {},
     "output_type": "execute_result"
    }
   ],
   "source": [
    "x.val"
   ]
  },
  {
   "cell_type": "code",
   "execution_count": 30,
   "id": "4cc9d1e2",
   "metadata": {},
   "outputs": [
    {
     "name": "stdout",
     "output_type": "stream",
     "text": [
      "8\n",
      "3\n"
     ]
    }
   ],
   "source": [
    "print(x.val)\n",
    "print(x.left.val)"
   ]
  },
  {
   "cell_type": "code",
   "execution_count": 32,
   "id": "0f77970a",
   "metadata": {},
   "outputs": [
    {
     "name": "stdout",
     "output_type": "stream",
     "text": [
      "13\n"
     ]
    }
   ],
   "source": [
    "print(x.right.right.val)"
   ]
  },
  {
   "cell_type": "code",
   "execution_count": null,
   "id": "36d465e4",
   "metadata": {},
   "outputs": [],
   "source": []
  }
 ],
 "metadata": {
  "kernelspec": {
   "display_name": "Python 3",
   "language": "python",
   "name": "python3"
  },
  "language_info": {
   "codemirror_mode": {
    "name": "ipython",
    "version": 3
   },
   "file_extension": ".py",
   "mimetype": "text/x-python",
   "name": "python",
   "nbconvert_exporter": "python",
   "pygments_lexer": "ipython3",
   "version": "3.8.8"
  }
 },
 "nbformat": 4,
 "nbformat_minor": 5
}
