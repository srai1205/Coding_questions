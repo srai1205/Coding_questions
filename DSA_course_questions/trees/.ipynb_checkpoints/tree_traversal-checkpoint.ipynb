{
 "cells": [
  {
   "cell_type": "code",
   "execution_count": 20,
   "id": "c42bd969",
   "metadata": {},
   "outputs": [],
   "source": [
    "class BinaryTree(object):\n",
    "    \n",
    "    def __init__(self,rootobj):\n",
    "        self.key = rootobj\n",
    "        self.leftchild = None\n",
    "        self.rightchild = None\n",
    "        \n",
    "    def InsertLeft(self,Newnode):\n",
    "        \n",
    "        if self.leftchild == None:\n",
    "            self.leftchild = BinaryTree(Newnode)\n",
    "        else:\n",
    "            t = BinaryTree(Newnode)\n",
    "            t.leftchild = self.leftchild\n",
    "            self.leftchild = t\n",
    "    \n",
    "    def InsertRight(self,Newnode):\n",
    "        \n",
    "        if self.rightchild == None:\n",
    "            self.rightchild = BinaryTree(Newnode)\n",
    "        else:\n",
    "            t = BinaryTree(Newnode)\n",
    "            t.rightchild = self.rightchild\n",
    "            self.rightchild = t\n",
    "            \n",
    "    def getRightChild(self):\n",
    "        return self.rightchild\n",
    "\n",
    "    def getLeftChild(self):\n",
    "        return self.leftchild\n",
    "\n",
    "    def setRootVal(self,obj):  #used as to update a value \n",
    "        self.key = obj\n",
    "\n",
    "    def getRootVal(self):\n",
    "        return self.key"
   ]
  },
  {
   "cell_type": "code",
   "execution_count": 21,
   "id": "fa1fcc0f",
   "metadata": {},
   "outputs": [],
   "source": [
    "r = BinaryTree('a')\n",
    "r.InsertLeft('b')\n",
    "r.InsertRight('c')"
   ]
  },
  {
   "cell_type": "code",
   "execution_count": 23,
   "id": "23820e56",
   "metadata": {},
   "outputs": [],
   "source": [
    "def Inorder(tree):\n",
    "    if tree != None:\n",
    "        Inorder(tree.getLeftChild())\n",
    "        print(tree.getRootVal())\n",
    "        Inorder(tree.getRightChild())"
   ]
  },
  {
   "cell_type": "code",
   "execution_count": 12,
   "id": "95ac28cf",
   "metadata": {},
   "outputs": [],
   "source": [
    "def preorder(tree):\n",
    "    if tree != None:\n",
    "        print(tree.getRootVal())\n",
    "        preorder(tree.getLeftChild())\n",
    "        preorder(tree.getRightChild())"
   ]
  },
  {
   "cell_type": "code",
   "execution_count": 18,
   "id": "b5cd38a9",
   "metadata": {},
   "outputs": [],
   "source": [
    "def postorder(tree):\n",
    "    if tree != None:\n",
    "        postorder(tree.getLeftChild())\n",
    "        postorder(tree.getRightChild())\n",
    "        print(tree.getRootVal())"
   ]
  },
  {
   "cell_type": "code",
   "execution_count": 24,
   "id": "318f87f4",
   "metadata": {},
   "outputs": [
    {
     "name": "stdout",
     "output_type": "stream",
     "text": [
      "b\n",
      "hello\n",
      "c\n"
     ]
    }
   ],
   "source": [
    "Inorder(r)"
   ]
  },
  {
   "cell_type": "code",
   "execution_count": 14,
   "id": "289e0042",
   "metadata": {},
   "outputs": [
    {
     "name": "stdout",
     "output_type": "stream",
     "text": [
      "a\n",
      "b\n",
      "c\n"
     ]
    }
   ],
   "source": [
    "preorder(r)"
   ]
  },
  {
   "cell_type": "code",
   "execution_count": 19,
   "id": "75e52df0",
   "metadata": {},
   "outputs": [
    {
     "name": "stdout",
     "output_type": "stream",
     "text": [
      "b\n",
      "c\n",
      "a\n"
     ]
    }
   ],
   "source": [
    "postorder(r)"
   ]
  },
  {
   "cell_type": "code",
   "execution_count": 22,
   "id": "db10330a",
   "metadata": {},
   "outputs": [],
   "source": [
    "r.setRootVal('hello')"
   ]
  },
  {
   "cell_type": "code",
   "execution_count": null,
   "id": "11b699e6",
   "metadata": {},
   "outputs": [],
   "source": []
  }
 ],
 "metadata": {
  "kernelspec": {
   "display_name": "Python 3",
   "language": "python",
   "name": "python3"
  },
  "language_info": {
   "codemirror_mode": {
    "name": "ipython",
    "version": 3
   },
   "file_extension": ".py",
   "mimetype": "text/x-python",
   "name": "python",
   "nbconvert_exporter": "python",
   "pygments_lexer": "ipython3",
   "version": "3.8.8"
  }
 },
 "nbformat": 4,
 "nbformat_minor": 5
}
