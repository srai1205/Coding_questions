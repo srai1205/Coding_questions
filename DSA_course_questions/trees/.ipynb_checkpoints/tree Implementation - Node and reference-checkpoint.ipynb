{
 "cells": [
  {
   "cell_type": "code",
   "execution_count": 8,
   "id": "6f26f4dc",
   "metadata": {},
   "outputs": [],
   "source": [
    "class BinaryTree(object):\n",
    "    \n",
    "    def __init__(self,rootobj):\n",
    "        self.key = rootobj\n",
    "        self.leftchild = None\n",
    "        self.rightchild = None\n",
    "        \n",
    "    def InsertLeft(self,Newnode):\n",
    "        \n",
    "        if self.leftchild == None:\n",
    "            self.leftchild = BinaryTree(Newnode)\n",
    "        else:\n",
    "            t = BinaryTree(Newnode)\n",
    "            t.leftchild = self.leftchild\n",
    "            self.leftchild = t\n",
    "    \n",
    "    def InsertRight(self,Newnode):\n",
    "        \n",
    "        if self.rightchild == None:\n",
    "            self.rightchild = BinaryTree(Newnode)\n",
    "        else:\n",
    "            t = BinaryTree(Newnode)\n",
    "            t.rightchild = self.rightchild\n",
    "            self.rightchild = t\n",
    "            \n",
    "    def getRightChild(self):\n",
    "        return self.rightchild\n",
    "\n",
    "    def getLeftChild(self):\n",
    "        return self.leftchild\n",
    "\n",
    "    def setRootVal(self,obj):\n",
    "        self.key = obj\n",
    "\n",
    "    def getRootVal(self):\n",
    "        return self.key"
   ]
  },
  {
   "cell_type": "code",
   "execution_count": 9,
   "id": "f2d46f59",
   "metadata": {},
   "outputs": [],
   "source": [
    "r = BinaryTree('a')"
   ]
  },
  {
   "cell_type": "code",
   "execution_count": 10,
   "id": "17d8ca7f",
   "metadata": {},
   "outputs": [
    {
     "name": "stdout",
     "output_type": "stream",
     "text": [
      "a\n",
      "None\n"
     ]
    }
   ],
   "source": [
    "print(r.getRootVal())\n",
    "\n",
    "print(r.getLeftChild())"
   ]
  },
  {
   "cell_type": "code",
   "execution_count": 11,
   "id": "e2a0cd09",
   "metadata": {},
   "outputs": [
    {
     "name": "stdout",
     "output_type": "stream",
     "text": [
      "None\n"
     ]
    }
   ],
   "source": [
    "print(r.getRightChild())"
   ]
  },
  {
   "cell_type": "code",
   "execution_count": 17,
   "id": "1654b593",
   "metadata": {},
   "outputs": [
    {
     "name": "stdout",
     "output_type": "stream",
     "text": [
      "b\n"
     ]
    }
   ],
   "source": [
    "#r.InsertLeft('b')\n",
    "print(r.getLeftChild().getRootVal())"
   ]
  },
  {
   "cell_type": "code",
   "execution_count": 14,
   "id": "d72a345a",
   "metadata": {},
   "outputs": [
    {
     "name": "stdout",
     "output_type": "stream",
     "text": [
      "b\n"
     ]
    }
   ],
   "source": [
    "print(r.getLeftChild().getRootVal())"
   ]
  },
  {
   "cell_type": "code",
   "execution_count": 15,
   "id": "31e64786",
   "metadata": {},
   "outputs": [
    {
     "name": "stdout",
     "output_type": "stream",
     "text": [
      "<__main__.BinaryTree object at 0x000002828E6C9400>\n",
      "c\n",
      "hello\n"
     ]
    }
   ],
   "source": [
    "r.InsertRight('c')\n",
    "print(r.getRightChild())\n",
    "print(r.getRightChild().getRootVal())\n",
    "r.getRightChild().setRootVal('hello')\n",
    "print(r.getRightChild().getRootVal())"
   ]
  },
  {
   "cell_type": "code",
   "execution_count": 18,
   "id": "4eab8236",
   "metadata": {},
   "outputs": [
    {
     "name": "stdout",
     "output_type": "stream",
     "text": [
      "hello\n"
     ]
    }
   ],
   "source": [
    "print(r.getRightChild().getRootVal())"
   ]
  },
  {
   "cell_type": "code",
   "execution_count": null,
   "id": "915997d3",
   "metadata": {},
   "outputs": [],
   "source": []
  }
 ],
 "metadata": {
  "kernelspec": {
   "display_name": "Python 3",
   "language": "python",
   "name": "python3"
  },
  "language_info": {
   "codemirror_mode": {
    "name": "ipython",
    "version": 3
   },
   "file_extension": ".py",
   "mimetype": "text/x-python",
   "name": "python",
   "nbconvert_exporter": "python",
   "pygments_lexer": "ipython3",
   "version": "3.8.8"
  }
 },
 "nbformat": 4,
 "nbformat_minor": 5
}
