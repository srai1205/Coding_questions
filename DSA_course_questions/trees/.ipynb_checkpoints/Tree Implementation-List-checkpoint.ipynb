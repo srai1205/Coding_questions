{
 "cells": [
  {
   "cell_type": "code",
   "execution_count": 1,
   "id": "3ca7549f",
   "metadata": {},
   "outputs": [],
   "source": [
    "def BinaryTree(r):\n",
    "    return [r,[],[]]"
   ]
  },
  {
   "cell_type": "code",
   "execution_count": 20,
   "id": "3b54f45a",
   "metadata": {},
   "outputs": [],
   "source": [
    "def InsertLeft(root,newbranch):\n",
    "    t = root.pop(1)\n",
    "    if len(t) >0:\n",
    "        root.insert(1,[newbranch,t,[]])\n",
    "    else:\n",
    "        root.insert(1,[newbranch,[],[]])\n",
    "    return root"
   ]
  },
  {
   "cell_type": "code",
   "execution_count": 21,
   "id": "e5cec790",
   "metadata": {},
   "outputs": [],
   "source": [
    "def Insertright(root,newbranch):\n",
    "    t = root.pop(2)\n",
    "    if len(t) >0:\n",
    "        root.insert(2,[newbranch,[],t])\n",
    "    else:\n",
    "        root.insert(2,[newbranch,[],[]])\n",
    "    return root"
   ]
  },
  {
   "cell_type": "code",
   "execution_count": 5,
   "id": "51f697dd",
   "metadata": {},
   "outputs": [],
   "source": [
    "def getrootVal(root):\n",
    "    return root[0]"
   ]
  },
  {
   "cell_type": "code",
   "execution_count": 6,
   "id": "2db83757",
   "metadata": {},
   "outputs": [],
   "source": [
    "def UpdaterootVal(root,value):\n",
    "    root[0] = value"
   ]
  },
  {
   "cell_type": "code",
   "execution_count": 7,
   "id": "19cdc75a",
   "metadata": {},
   "outputs": [],
   "source": [
    "def getleftchild(root):\n",
    "    return root[1] "
   ]
  },
  {
   "cell_type": "code",
   "execution_count": 8,
   "id": "af4d0273",
   "metadata": {},
   "outputs": [],
   "source": [
    "def getrightchild(root):\n",
    "    return root[2]"
   ]
  },
  {
   "cell_type": "code",
   "execution_count": 9,
   "id": "81e61437",
   "metadata": {},
   "outputs": [],
   "source": [
    "r = BinaryTree(5)"
   ]
  },
  {
   "cell_type": "code",
   "execution_count": 17,
   "id": "aaf390c1",
   "metadata": {},
   "outputs": [
    {
     "name": "stdout",
     "output_type": "stream",
     "text": [
      "[4, [], []]\n"
     ]
    }
   ],
   "source": [
    "print(j)"
   ]
  },
  {
   "cell_type": "code",
   "execution_count": 11,
   "id": "b9c207a2",
   "metadata": {},
   "outputs": [],
   "source": [
    "j = BinaryTree(4)"
   ]
  },
  {
   "cell_type": "code",
   "execution_count": 22,
   "id": "53473df9",
   "metadata": {},
   "outputs": [
    {
     "data": {
      "text/plain": [
       "[4, [3, [], []], []]"
      ]
     },
     "execution_count": 22,
     "metadata": {},
     "output_type": "execute_result"
    }
   ],
   "source": [
    "InsertLeft(j,3)"
   ]
  },
  {
   "cell_type": "code",
   "execution_count": 23,
   "id": "8e4b9cce",
   "metadata": {},
   "outputs": [
    {
     "data": {
      "text/plain": [
       "[4, [3, [], []], [2, [], []]]"
      ]
     },
     "execution_count": 23,
     "metadata": {},
     "output_type": "execute_result"
    }
   ],
   "source": [
    "Insertright(j,2)"
   ]
  },
  {
   "cell_type": "code",
   "execution_count": 24,
   "id": "64adf370",
   "metadata": {},
   "outputs": [
    {
     "data": {
      "text/plain": [
       "[5, [[4, [3, [], []], [2, [], []]], [], []], []]"
      ]
     },
     "execution_count": 24,
     "metadata": {},
     "output_type": "execute_result"
    }
   ],
   "source": [
    "InsertLeft(r,j)"
   ]
  },
  {
   "cell_type": "code",
   "execution_count": 25,
   "id": "fc149d29",
   "metadata": {},
   "outputs": [
    {
     "data": {
      "text/plain": [
       "[5, [[4, [3, [], []], [2, [], []]], [], []], [1, [], []]]"
      ]
     },
     "execution_count": 25,
     "metadata": {},
     "output_type": "execute_result"
    }
   ],
   "source": [
    "Insertright(r,1)"
   ]
  },
  {
   "cell_type": "code",
   "execution_count": 26,
   "id": "0dee042e",
   "metadata": {},
   "outputs": [
    {
     "data": {
      "text/plain": [
       "[[4, [3, [], []], [2, [], []]], [], []]"
      ]
     },
     "execution_count": 26,
     "metadata": {},
     "output_type": "execute_result"
    }
   ],
   "source": [
    "getleftchild(r)"
   ]
  },
  {
   "cell_type": "code",
   "execution_count": 27,
   "id": "190694fe",
   "metadata": {},
   "outputs": [
    {
     "data": {
      "text/plain": [
       "[1, [], []]"
      ]
     },
     "execution_count": 27,
     "metadata": {},
     "output_type": "execute_result"
    }
   ],
   "source": [
    "getrightchild(r)"
   ]
  },
  {
   "cell_type": "code",
   "execution_count": 28,
   "id": "0c3f898c",
   "metadata": {},
   "outputs": [],
   "source": [
    "UpdaterootVal(r,10)"
   ]
  },
  {
   "cell_type": "code",
   "execution_count": 30,
   "id": "149bb7f0",
   "metadata": {},
   "outputs": [
    {
     "data": {
      "text/plain": [
       "10"
      ]
     },
     "execution_count": 30,
     "metadata": {},
     "output_type": "execute_result"
    }
   ],
   "source": [
    "getrootVal(r)"
   ]
  },
  {
   "cell_type": "code",
   "execution_count": 31,
   "id": "2bcfbd0d",
   "metadata": {},
   "outputs": [
    {
     "data": {
      "text/plain": [
       "[10, [[4, [3, [], []], [2, [], []]], [], []], [1, [], []]]"
      ]
     },
     "execution_count": 31,
     "metadata": {},
     "output_type": "execute_result"
    }
   ],
   "source": [
    "r"
   ]
  },
  {
   "cell_type": "code",
   "execution_count": null,
   "id": "62fec718",
   "metadata": {},
   "outputs": [],
   "source": []
  }
 ],
 "metadata": {
  "kernelspec": {
   "display_name": "Python 3",
   "language": "python",
   "name": "python3"
  },
  "language_info": {
   "codemirror_mode": {
    "name": "ipython",
    "version": 3
   },
   "file_extension": ".py",
   "mimetype": "text/x-python",
   "name": "python",
   "nbconvert_exporter": "python",
   "pygments_lexer": "ipython3",
   "version": "3.8.8"
  }
 },
 "nbformat": 4,
 "nbformat_minor": 5
}
