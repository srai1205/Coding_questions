{
 "cells": [
  {
   "cell_type": "code",
   "execution_count": 61,
   "id": "f680eeb1",
   "metadata": {},
   "outputs": [],
   "source": [
    "li = []\n",
    "def Inorder(tree):\n",
    "    if tree != None:\n",
    "        Inorder(tree.leftchild)\n",
    "        li.append(tree.value)\n",
    "        Inorder(tree.rightchild)\n",
    "    return li\n",
    "        \n",
    "def BSTCheck(tree):\n",
    "    x = Inorder(tree)\n",
    "    print(x)\n",
    "    return x == sorted(x)\n",
    "\n",
    "    "
   ]
  },
  {
   "cell_type": "code",
   "execution_count": 74,
   "id": "1abfb7d2",
   "metadata": {},
   "outputs": [],
   "source": [
    "class Node:\n",
    "    def __init__(self,val):\n",
    "        self.value = val\n",
    "        self.leftchild = None\n",
    "        self.rightchild = None\n"
   ]
  },
  {
   "cell_type": "code",
   "execution_count": 59,
   "id": "438ffece",
   "metadata": {},
   "outputs": [
    {
     "name": "stdout",
     "output_type": "stream",
     "text": [
      "[5, 6, 10, 30]\n",
      "True\n"
     ]
    }
   ],
   "source": [
    "root= Node(10)\n",
    "root.leftchild = Node(5)\n",
    "root.rightchild= Node(30)\n",
    "root.leftchild.rightchild = Node(6)\n",
    "print(BSTCheck(root)) # prints True, since this tree is valid"
   ]
  },
  {
   "cell_type": "code",
   "execution_count": 62,
   "id": "4d87ceb5",
   "metadata": {},
   "outputs": [
    {
     "name": "stdout",
     "output_type": "stream",
     "text": [
      "[5, 15, 10, 20]\n",
      "False\n"
     ]
    }
   ],
   "source": [
    "root = Node(10)\n",
    "root.rightchild = Node(20)\n",
    "root.leftchild = Node(5)\n",
    "root.leftchild.rightchild = Node(15)\n",
    "\n",
    "print(BSTCheck(root)) # prints False, since 15 is to the left of 10"
   ]
  },
  {
   "cell_type": "code",
   "execution_count": 75,
   "id": "01e4bf25",
   "metadata": {},
   "outputs": [],
   "source": [
    "def tree_min(node):\n",
    "    if not node:\n",
    "        return float(\"inf\")\n",
    "    minleft = tree_min(node.leftchild)\n",
    "    minright = tree_min(node.rightchild)\n",
    "    return min(node.value,minleft,minright)\n",
    "\n",
    "def tree_max(node):\n",
    "    if not node:\n",
    "        return float(\"inf\")\n",
    "    maxleft = tree_max(node.leftchild)\n",
    "    maxright = tree_max(node.rightchild)\n",
    "    return min(node.value,maxleft,maxright)\n",
    "\n",
    "def verify(node):\n",
    "    if not node:\n",
    "        return True\n",
    "    if (tree_max(node.leftchild) <= node.value and node.value <= tree_min(node.rightchild) and verify(node.leftchild) and verify(node.rightchild)):\n",
    "        return True\n",
    "    else:\n",
    "        return False\n"
   ]
  },
  {
   "cell_type": "code",
   "execution_count": 76,
   "id": "cbf2fb1c",
   "metadata": {},
   "outputs": [
    {
     "name": "stdout",
     "output_type": "stream",
     "text": [
      "False\n"
     ]
    }
   ],
   "source": [
    "root= Node(10)\n",
    "root.leftchild = Node(5)\n",
    "root.rightchild= Node(30)\n",
    "\n",
    "print(verify(root)) # prints True, since this tree is valid"
   ]
  },
  {
   "cell_type": "code",
   "execution_count": null,
   "id": "ee85db8e",
   "metadata": {},
   "outputs": [],
   "source": []
  }
 ],
 "metadata": {
  "kernelspec": {
   "display_name": "Python 3",
   "language": "python",
   "name": "python3"
  },
  "language_info": {
   "codemirror_mode": {
    "name": "ipython",
    "version": 3
   },
   "file_extension": ".py",
   "mimetype": "text/x-python",
   "name": "python",
   "nbconvert_exporter": "python",
   "pygments_lexer": "ipython3",
   "version": "3.8.8"
  }
 },
 "nbformat": 4,
 "nbformat_minor": 5
}
