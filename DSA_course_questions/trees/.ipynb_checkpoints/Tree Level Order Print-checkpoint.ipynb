{
 "cells": [
  {
   "cell_type": "code",
   "execution_count": 29,
   "id": "ed343c03",
   "metadata": {},
   "outputs": [],
   "source": [
    "class Node:\n",
    "    def __init__(self, val=None):\n",
    "        self.left = None\n",
    "        self.right = None\n",
    "        self.val =  val "
   ]
  },
  {
   "cell_type": "code",
   "execution_count": 30,
   "id": "9713361a",
   "metadata": {},
   "outputs": [],
   "source": [
    "r = Node(1)\n",
    "r.left = Node(2)\n",
    "r.right = Node(3)\n",
    "r.right.left = Node(5)\n",
    "r.right.right = Node(6)\n",
    "r.left.right = Node(4)"
   ]
  },
  {
   "cell_type": "code",
   "execution_count": 45,
   "id": "f09ee51a",
   "metadata": {},
   "outputs": [],
   "source": [
    "def levelOrderPrint(tree):\n",
    "    if not tree:\n",
    "        return\n",
    "    nodes = collections.deque([tree])\n",
    "    currentcount = 1  #number of elements left to print in current level\n",
    "    nextcount = 0  #number of elements left to print in next level\n",
    "    while len(nodes) !=0:\n",
    "        currentnode = nodes.popleft()\n",
    "        currentcount -= 1\n",
    "        print(currentnode.val, end =\"\")\n",
    "        if currentnode.left != None:\n",
    "            nodes.append(currentnode.left)\n",
    "            nextcount += 1\n",
    "        if currentnode.right != None:\n",
    "            nodes.append(currentnode.right)\n",
    "            nextcount += 1\n",
    "        if currentcount == 0:\n",
    "            print('\\n', end =\"\")\n",
    "            currentcount,nextcount = nextcount,currentcount"
   ]
  },
  {
   "cell_type": "code",
   "execution_count": 46,
   "id": "8ae3adab",
   "metadata": {},
   "outputs": [
    {
     "name": "stdout",
     "output_type": "stream",
     "text": [
      "1\n",
      "23\n",
      "456\n"
     ]
    }
   ],
   "source": [
    "levelOrderPrint(r)"
   ]
  },
  {
   "cell_type": "code",
   "execution_count": null,
   "id": "ea5e231e",
   "metadata": {},
   "outputs": [],
   "source": []
  },
  {
   "cell_type": "code",
   "execution_count": 13,
   "id": "2f1d33b3",
   "metadata": {},
   "outputs": [],
   "source": [
    "dic = {}\n",
    "def travsal(root,i=0):\n",
    "    if root == None:\n",
    "        return 0\n",
    "    else:\n",
    "        \n",
    "        i += 1\n",
    "        travsal(root.left,i)\n",
    "        travsal(root.right,i)\n",
    "        "
   ]
  },
  {
   "cell_type": "code",
   "execution_count": 14,
   "id": "f8e14407",
   "metadata": {},
   "outputs": [
    {
     "name": "stdout",
     "output_type": "stream",
     "text": [
      "1 0\n",
      "2 1\n",
      "4 2\n",
      "3 1\n",
      "5 2\n",
      "6 2\n"
     ]
    }
   ],
   "source": [
    "travsal(r)"
   ]
  },
  {
   "cell_type": "code",
   "execution_count": null,
   "id": "1e05ebac",
   "metadata": {},
   "outputs": [],
   "source": []
  }
 ],
 "metadata": {
  "kernelspec": {
   "display_name": "Python 3",
   "language": "python",
   "name": "python3"
  },
  "language_info": {
   "codemirror_mode": {
    "name": "ipython",
    "version": 3
   },
   "file_extension": ".py",
   "mimetype": "text/x-python",
   "name": "python",
   "nbconvert_exporter": "python",
   "pygments_lexer": "ipython3",
   "version": "3.8.8"
  }
 },
 "nbformat": 4,
 "nbformat_minor": 5
}
