{
 "cells": [
  {
   "cell_type": "code",
   "execution_count": 10,
   "id": "6f26f4dc",
   "metadata": {},
   "outputs": [],
   "source": [
    "class BinaryTree(object):\n",
    "    \n",
    "    def __init__(self,rootobj):\n",
    "        self.key = rootobj\n",
    "        self.leftchild = None\n",
    "        self.rightchild = None\n",
    "        \n",
    "    def InsertLeft(self,Newnode):\n",
    "        \n",
    "        if self.leftchild == None:\n",
    "            self.leftchild = BinaryTree(Newnode)\n",
    "        else:\n",
    "            t = BinaryTree(Newnode)\n",
    "            t.leftchild = self.leftchild\n",
    "            self.leftchild = t\n",
    "    \n",
    "    def InsertRight(self,Newnode):\n",
    "        \n",
    "        if self.rightchild == None:\n",
    "            self.rightchild = BinaryTree(Newnode)\n",
    "        else:\n",
    "            t = BinaryTree(Newnode)\n",
    "            t.rightchild = self.rightchild\n",
    "            self.rightchild = t\n",
    "            \n",
    "    def getRightChild(self):\n",
    "        return self.rightchild\n",
    "\n",
    "    def getLeftChild(self):\n",
    "        return self.leftchild\n",
    "\n",
    "    def setRootVal(self,obj):\n",
    "        self.key = obj\n",
    "\n",
    "    def getRootVal(self):\n",
    "        return self.key"
   ]
  },
  {
   "cell_type": "code",
   "execution_count": 11,
   "id": "f2d46f59",
   "metadata": {},
   "outputs": [],
   "source": [
    "r = BinaryTree('a')"
   ]
  },
  {
   "cell_type": "code",
   "execution_count": 12,
   "id": "17d8ca7f",
   "metadata": {},
   "outputs": [
    {
     "name": "stdout",
     "output_type": "stream",
     "text": [
      "a\n",
      "None\n"
     ]
    }
   ],
   "source": [
    "print(r.getRootVal())\n",
    "\n",
    "print(r.getLeftChild())"
   ]
  },
  {
   "cell_type": "code",
   "execution_count": 13,
   "id": "e2a0cd09",
   "metadata": {},
   "outputs": [
    {
     "name": "stdout",
     "output_type": "stream",
     "text": [
      "None\n"
     ]
    }
   ],
   "source": [
    "print(r.getRightChild())"
   ]
  },
  {
   "cell_type": "code",
   "execution_count": 14,
   "id": "1654b593",
   "metadata": {},
   "outputs": [
    {
     "name": "stdout",
     "output_type": "stream",
     "text": [
      "b\n"
     ]
    }
   ],
   "source": [
    "r.InsertLeft('b')\n",
    "print(r.getLeftChild().getRootVal())"
   ]
  },
  {
   "cell_type": "code",
   "execution_count": 15,
   "id": "d72a345a",
   "metadata": {},
   "outputs": [
    {
     "name": "stdout",
     "output_type": "stream",
     "text": [
      "b\n"
     ]
    }
   ],
   "source": [
    "print(r.getLeftChild().getRootVal())"
   ]
  },
  {
   "cell_type": "code",
   "execution_count": 16,
   "id": "31e64786",
   "metadata": {},
   "outputs": [
    {
     "name": "stdout",
     "output_type": "stream",
     "text": [
      "<__main__.BinaryTree object at 0x000001C3D7152A90>\n",
      "c\n",
      "hello\n"
     ]
    }
   ],
   "source": [
    "r.InsertRight('c')\n",
    "print(r.getRightChild())\n",
    "print(r.getRightChild().getRootVal())\n",
    "r.getRightChild().setRootVal('hello')\n",
    "print(r.getRightChild().getRootVal())"
   ]
  },
  {
   "cell_type": "code",
   "execution_count": 17,
   "id": "4eab8236",
   "metadata": {},
   "outputs": [
    {
     "name": "stdout",
     "output_type": "stream",
     "text": [
      "hello\n"
     ]
    }
   ],
   "source": [
    "print(r.getRightChild().getRootVal())"
   ]
  },
  {
   "cell_type": "code",
   "execution_count": null,
   "id": "6160d064",
   "metadata": {},
   "outputs": [],
   "source": [
    "stri = \"ABCABCABCABC\"\n",
    "def func(stri,cu=\"\"):\n",
    "    for i in str:\n",
    "        if stri[i]\n",
    "    "
   ]
  },
  {
   "cell_type": "code",
   "execution_count": null,
   "id": "9591ae62",
   "metadata": {},
   "outputs": [],
   "source": [
    "# A Python program to check if a string is 'n' times\n",
    "# repetition of one of its substrings\n",
    "\n",
    "# A utility function to fill lps[] or compute prefix funcrion\n",
    "# used in KMP string matching algorithm. Refer\n",
    "# https://www.geeksforgeeks.org/archives/11902 for details\n",
    "def computeLPSArray(string, M, lps):\n",
    "\tlength = 0\t # length of the previous longest prefix suffix\n",
    "\ti = 1\n",
    "\n",
    "\tlps[0] = 0 # lps[0] is always 0\n",
    "\n",
    "\t# the loop calculates lps[i] for i = 1 to M-1\n",
    "\twhile i < M:\n",
    "\t\tif string[i] == string[length]:\n",
    "\t\t\tlength += 1\n",
    "\t\t\tlps[i] = length\n",
    "\t\t\ti += 1\n",
    "\t\telse:\n",
    "\t\t\tif length != 0:\t\t\n",
    "\t\t\t\t# This is tricky. Consider the example AAACAAAA\n",
    "\t\t\t\t# and i = 7.\n",
    "\t\t\t\tlength = lps[length-1]\n",
    "\n",
    "\t\t\t\t# Also, note that we do not increment i here\n",
    "\t\t\telse:\n",
    "\t\t\t\tlps[i] = 0\n",
    "\t\t\t\ti += 1\n",
    "\n",
    "# Returns true if string is repetition of one of its substrings\n",
    "# else return false.\n",
    "def isRepeat(string):\n",
    "\t# Find length of string and create an array to\n",
    "\t# store lps values used in KMP\n",
    "\tn = len(string)\n",
    "\tlps = [0] * n\n",
    "    print\n",
    "\t# Preprocess the pattern (calculate lps[] array)\n",
    "\tcomputeLPSArray(string, n, lps)\n",
    "\n",
    "\t# Find length of longest suffix which is also\n",
    "\t# prefix of str.\n",
    "\tlength = lps[n-1]\n",
    "\n",
    "\t# If there exist a suffix which is also prefix AND\n",
    "\t# Length of the remaining substring divides total\n",
    "\t# length, then str[0..n-len-1] is the substring that\n",
    "\t# repeats n/(n-len) times (Readers can print substring\n",
    "\t# and value of n/(n-len) for more clarity.\n",
    "\tif len > 0 and n%(n-length) == 0:\n",
    "\t\treturn True\n",
    "\telse:\n",
    "\t\tFalse\n",
    "\n",
    "# Driver program\n",
    "txt = [\"ABCABC\", \"ABABAB\", \"ABCDABCD\", \"GEEKSFORGEEKS\",\n",
    "\t\t\"GEEKGEEK\", \"AAAACAAAAC\", \"ABCDABC\"]\n",
    "n = len(txt)\n",
    "for i in xrange(n):\n",
    "\tif isRepeat(txt[i]):\n",
    "\t\tprint \"True\"\n",
    "\telse:\n",
    "\t\tprint \"False\"\n",
    "\n",
    "# This code is contributed by BHAVYA JAIN\n"
   ]
  },
  {
   "cell_type": "code",
   "execution_count": 1,
   "id": "617eaec3",
   "metadata": {},
   "outputs": [],
   "source": [
    "li = [0]*5"
   ]
  },
  {
   "cell_type": "code",
   "execution_count": 14,
   "id": "6595d45c",
   "metadata": {},
   "outputs": [
    {
     "name": "stdout",
     "output_type": "stream",
     "text": [
      "{4, 5}\n"
     ]
    }
   ],
   "source": [
    "x = set()\n",
    "x.add(1)\n",
    "x.add(2)\n",
    "x.add(3)\n",
    "x.add(4)\n",
    "x.add(5)\n",
    "y = set()\n",
    "y.add(1)\n",
    "y.add(2)\n",
    "y.add(3)\n",
    "k = x - y\n",
    "print(k)"
   ]
  },
  {
   "cell_type": "code",
   "execution_count": 24,
   "id": "70bda765",
   "metadata": {},
   "outputs": [
    {
     "name": "stdout",
     "output_type": "stream",
     "text": [
      "{'a', 'c', 's', 'i', 't'} {'s', 'i', 't'}\n"
     ]
    }
   ],
   "source": [
    "x = 'statistics'\n",
    "z = set()\n",
    "s = set()\n",
    "for i in x:\n",
    "    if i not in s:\n",
    "        s.add(i)\n",
    "    else:\n",
    "        z.add(i)\n",
    "        \n",
    "print(s,z)"
   ]
  },
  {
   "cell_type": "code",
   "execution_count": 22,
   "id": "54cce8f4",
   "metadata": {},
   "outputs": [
    {
     "name": "stdout",
     "output_type": "stream",
     "text": [
      "3 a\n"
     ]
    }
   ],
   "source": [
    "uni = s-z\n",
    "count = 0\n",
    "for i in x:\n",
    "    count += 1\n",
    "    if i in uni:\n",
    "        print(count,i)\n",
    "        break"
   ]
  },
  {
   "cell_type": "code",
   "execution_count": 28,
   "id": "3b3b72db",
   "metadata": {},
   "outputs": [],
   "source": [
    "x = \"ABCABCABC\""
   ]
  },
  {
   "cell_type": "code",
   "execution_count": 38,
   "id": "53c69e6b",
   "metadata": {},
   "outputs": [],
   "source": [
    "#x = \"ABCDABCD\"\n",
    "x = \"ABCABCABC\"\n",
    "le = len(x)\n",
    "res = 1\n",
    "end = 1\n",
    "i,j = 1,2\n",
    "while count < le and res < le:\n",
    "    if x[0:res] != x[i*res:j*res]:\n",
    "        res += 1\n",
    "    else:\n",
    "        count = res\n",
    "        c"
   ]
  },
  {
   "cell_type": "code",
   "execution_count": 39,
   "id": "5c4bf392",
   "metadata": {},
   "outputs": [
    {
     "name": "stdout",
     "output_type": "stream",
     "text": [
      "ABCD\n"
     ]
    }
   ],
   "source": [
    "print(x[0:res])"
   ]
  },
  {
   "cell_type": "code",
   "execution_count": 34,
   "id": "b7992017",
   "metadata": {},
   "outputs": [
    {
     "data": {
      "text/plain": [
       "'ABC'"
      ]
     },
     "execution_count": 34,
     "metadata": {},
     "output_type": "execute_result"
    }
   ],
   "source": [
    "x[3:6]"
   ]
  },
  {
   "cell_type": "code",
   "execution_count": null,
   "id": "365e871e",
   "metadata": {},
   "outputs": [],
   "source": []
  }
 ],
 "metadata": {
  "kernelspec": {
   "display_name": "Python 3 (ipykernel)",
   "language": "python",
   "name": "python3"
  },
  "language_info": {
   "codemirror_mode": {
    "name": "ipython",
    "version": 3
   },
   "file_extension": ".py",
   "mimetype": "text/x-python",
   "name": "python",
   "nbconvert_exporter": "python",
   "pygments_lexer": "ipython3",
   "version": "3.8.12"
  }
 },
 "nbformat": 4,
 "nbformat_minor": 5
}
