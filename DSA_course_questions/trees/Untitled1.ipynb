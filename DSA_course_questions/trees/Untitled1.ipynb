{
 "cells": [
  {
   "cell_type": "code",
   "execution_count": null,
   "id": "23bad68c",
   "metadata": {},
   "outputs": [],
   "source": [
    "# Python Implementation\n",
    " \n",
    "# Locking function\n",
    "def lock(name):\n",
    "    ind = nodes.index(name)+1\n",
    "    c1 = ind * 2\n",
    "    c2 = ind * 2 + 1\n",
    "    if status[name] == 'lock' \\\n",
    "            or status[name] == 'fail':\n",
    "        return 'false'\n",
    "    else:\n",
    "        p = ind//2\n",
    "        status[nodes[p-1]] = 'fail'\n",
    "        status[name] = 'lock'\n",
    "        return 'true'\n",
    "\n",
    "# Unlocking function\n",
    "def unlock(name):\n",
    "    if status[name] == 'lock':\n",
    "        status[name] = 'unlock'\n",
    "        return 'true'\n",
    "    else:\n",
    "        return 'false'\n",
    "\n",
    "# Upgrade function\n",
    "def upgrade(name):\n",
    "    ind = nodes.index(name)+1\n",
    " \n",
    "    # left child of ind\n",
    "    c1 = ind * 2\n",
    " \n",
    "    # right child of ind\n",
    "    c2 = ind * 2 + 1\n",
    "    if c1 in range(1, n) and c2 in range(1, n):\n",
    "        if status[nodes[c1-1]] == 'lock' \\\n",
    "            and status[nodes[c2-1]] == 'lock':\n",
    "            status[nodes[c1-1]] = 'unlock'\n",
    "            status[nodes[c2-1]] = 'unlock'\n",
    "            status[nodes[ind-1]] = 'lock'\n",
    "            return 'true'\n",
    "        else:\n",
    "            return 'false'\n",
    "\n",
    "# Precomputation\n",
    "def precompute(queries):\n",
    "    d = []\n",
    "    # Traversing the queries\n",
    "    for j in queries:\n",
    "        i = j.split()\n",
    "        d.append(i[1])\n",
    "        d.append(int(i[0]))\n",
    "    status = {}\n",
    "    for j in range(0, len(d)-1, 2):\n",
    "        status[d[j]] = 0\n",
    "    return status, d\n",
    " \n",
    "# Function to perform operations\n",
    "def operation(name, code):\n",
    "    result = 'false'\n",
    "     \n",
    "    # Choose operation to perform\n",
    "    if code == 1:\n",
    "        result = lock(name)\n",
    "    elif code == 2:\n",
    "        result = unlock(name)\n",
    "    elif code == 3:\n",
    "        result = upgrade(name)\n",
    "    return result\n",
    "   \n",
    "#Driver Code\n",
    "if __name__ == '__main__':\n",
    "   \n",
    "      # Given Input\n",
    "    n = 7;m = 2\n",
    "    apis = 5\n",
    "    nodes = ['World', 'Asia', \\\n",
    "            'Africa', 'China', \\\n",
    "            'India', 'SouthAfrica', 'Egypt']\n",
    "    queries = ['1 China 9', '1 India 9', \\\n",
    "             '3 Asia 9', '2 India 9', '2 Asia 9']\n",
    "     \n",
    "    # Precomputation\n",
    "    status, d = precompute(queries)\n",
    " \n",
    "    # Function Call\n",
    "    for j in range(0, len(d) - 1, 2):\n",
    "        print(operation(d[j], d[j + 1]), end = ' ')"
   ]
  },
  {
   "cell_type": "code",
   "execution_count": 1,
   "id": "958ae07b",
   "metadata": {},
   "outputs": [],
   "source": [
    "node = ['World', 'Asia','Africa', 'China', 'India', 'SouthAfrica', 'Egypt']"
   ]
  },
  {
   "cell_type": "code",
   "execution_count": 2,
   "id": "19bfba0d",
   "metadata": {},
   "outputs": [],
   "source": [
    "nodes = ['World', 'Asia', \\\n",
    "            'Africa', 'China', \\\n",
    "            'India', 'SouthAfrica', 'Egypt']"
   ]
  },
  {
   "cell_type": "code",
   "execution_count": 3,
   "id": "6cc7265a",
   "metadata": {},
   "outputs": [
    {
     "data": {
      "text/plain": [
       "['World', 'Asia', 'Africa', 'China', 'India', 'SouthAfrica', 'Egypt']"
      ]
     },
     "execution_count": 3,
     "metadata": {},
     "output_type": "execute_result"
    }
   ],
   "source": [
    "node "
   ]
  },
  {
   "cell_type": "code",
   "execution_count": 4,
   "id": "783b96d0",
   "metadata": {},
   "outputs": [
    {
     "data": {
      "text/plain": [
       "['World', 'Asia', 'Africa', 'China', 'India', 'SouthAfrica', 'Egypt']"
      ]
     },
     "execution_count": 4,
     "metadata": {},
     "output_type": "execute_result"
    }
   ],
   "source": [
    "nodes"
   ]
  },
  {
   "cell_type": "code",
   "execution_count": 6,
   "id": "9923e3d5",
   "metadata": {},
   "outputs": [
    {
     "data": {
      "text/plain": [
       "5"
      ]
     },
     "execution_count": 6,
     "metadata": {},
     "output_type": "execute_result"
    }
   ],
   "source": [
    "node.index('SouthAfrica')"
   ]
  },
  {
   "cell_type": "code",
   "execution_count": null,
   "id": "68a7df04",
   "metadata": {},
   "outputs": [],
   "source": []
  }
 ],
 "metadata": {
  "kernelspec": {
   "display_name": "Python 3 (ipykernel)",
   "language": "python",
   "name": "python3"
  },
  "language_info": {
   "codemirror_mode": {
    "name": "ipython",
    "version": 3
   },
   "file_extension": ".py",
   "mimetype": "text/x-python",
   "name": "python",
   "nbconvert_exporter": "python",
   "pygments_lexer": "ipython3",
   "version": "3.8.12"
  }
 },
 "nbformat": 4,
 "nbformat_minor": 5
}
