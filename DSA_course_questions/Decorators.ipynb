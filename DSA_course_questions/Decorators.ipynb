{
 "cells": [
  {
   "cell_type": "code",
   "execution_count": 1,
   "id": "9d354b72",
   "metadata": {},
   "outputs": [],
   "source": [
    "#decorator\n",
    "\n",
    "def decorator_func(func):\n",
    "    def wrapper_func():\n",
    "        func()\n",
    "    print(\"decorator function works!!\")\n",
    "    return wrapper_func\n",
    "def show():\n",
    "    print(\"show function works!!\")"
   ]
  },
  {
   "cell_type": "code",
   "execution_count": 2,
   "id": "c31d19fc",
   "metadata": {},
   "outputs": [
    {
     "name": "stdout",
     "output_type": "stream",
     "text": [
      "decorator function works!!\n"
     ]
    }
   ],
   "source": [
    "decorator_show = decorator_func(show)"
   ]
  },
  {
   "cell_type": "code",
   "execution_count": 5,
   "id": "a2fb3dc0",
   "metadata": {},
   "outputs": [
    {
     "ename": "NameError",
     "evalue": "name 'wrapper_func' is not defined",
     "output_type": "error",
     "traceback": [
      "\u001b[1;31m---------------------------------------------------------------------------\u001b[0m",
      "\u001b[1;31mNameError\u001b[0m                                 Traceback (most recent call last)",
      "\u001b[1;32m~\\AppData\\Local\\Temp\\ipykernel_20764\\1097584323.py\u001b[0m in \u001b[0;36m<module>\u001b[1;34m\u001b[0m\n\u001b[1;32m----> 1\u001b[1;33m \u001b[0mwrapper_func\u001b[0m\u001b[1;33m(\u001b[0m\u001b[1;33m)\u001b[0m\u001b[1;33m\u001b[0m\u001b[1;33m\u001b[0m\u001b[0m\n\u001b[0m",
      "\u001b[1;31mNameError\u001b[0m: name 'wrapper_func' is not defined"
     ]
    }
   ],
   "source": [
    "wrapper_func()"
   ]
  },
  {
   "cell_type": "code",
   "execution_count": 4,
   "id": "281e6998",
   "metadata": {},
   "outputs": [
    {
     "name": "stdout",
     "output_type": "stream",
     "text": [
      "show function works!!\n"
     ]
    }
   ],
   "source": [
    "decorator_show()"
   ]
  },
  {
   "cell_type": "markdown",
   "id": "823e3070",
   "metadata": {},
   "source": [
    "@decorator_func\n",
    "def show2():\n",
    "    print(\"show2 function works!!\")\n",
    "    \n",
    "    \n",
    "this is equivalent to \n",
    "\n",
    "\n",
    "def show2():\n",
    "    print(\"show2 function works!!\")\n",
    "decorator_show = decorator_func(show)"
   ]
  },
  {
   "cell_type": "code",
   "execution_count": 6,
   "id": "5db9c7a2",
   "metadata": {},
   "outputs": [
    {
     "name": "stdout",
     "output_type": "stream",
     "text": [
      "show2 function works!!\n"
     ]
    }
   ],
   "source": [
    "show2()"
   ]
  },
  {
   "cell_type": "code",
   "execution_count": 5,
   "id": "41b4c809",
   "metadata": {},
   "outputs": [
    {
     "name": "stdout",
     "output_type": "stream",
     "text": [
      "5\n"
     ]
    }
   ],
   "source": [
    "def dec(func):\n",
    "    def wapper(x):\n",
    "        x = x + 2\n",
    "        func(x)\n",
    "    return wapper\n",
    "@dec\n",
    "def main(x):\n",
    "    print(x-2) \n",
    "main(5)"
   ]
  },
  {
   "cell_type": "code",
   "execution_count": null,
   "id": "5f0f8580",
   "metadata": {},
   "outputs": [],
   "source": [
    "def main(x):\n",
    "    print(x+2)\n"
   ]
  }
 ],
 "metadata": {
  "kernelspec": {
   "display_name": "Python 3 (ipykernel)",
   "language": "python",
   "name": "python3"
  },
  "language_info": {
   "codemirror_mode": {
    "name": "ipython",
    "version": 3
   },
   "file_extension": ".py",
   "mimetype": "text/x-python",
   "name": "python",
   "nbconvert_exporter": "python",
   "pygments_lexer": "ipython3",
   "version": "3.9.13"
  }
 },
 "nbformat": 4,
 "nbformat_minor": 5
}
