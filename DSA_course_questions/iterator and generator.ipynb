{
 "cells": [
  {
   "cell_type": "code",
   "execution_count": 4,
   "id": "6fe6d4c4",
   "metadata": {},
   "outputs": [
    {
     "name": "stdout",
     "output_type": "stream",
     "text": [
      "1\n"
     ]
    }
   ],
   "source": [
    "#iterator \n",
    "\n",
    "li = [1,2,3,4]\n",
    "list_iter = iter(li)\n",
    "print(next(list_iter))"
   ]
  },
  {
   "cell_type": "code",
   "execution_count": 5,
   "id": "098979b1",
   "metadata": {},
   "outputs": [
    {
     "name": "stdout",
     "output_type": "stream",
     "text": [
      "2\n",
      "3\n",
      "4\n",
      "1\n"
     ]
    }
   ],
   "source": [
    "print(next(list_iter))\n",
    "print(next(list_iter))\n",
    "print(next(list_iter))\n",
    "list_iter = iter(li)\n",
    "print(next(list_iter))"
   ]
  },
  {
   "cell_type": "code",
   "execution_count": 1,
   "id": "0846076d",
   "metadata": {},
   "outputs": [
    {
     "name": "stdout",
     "output_type": "stream",
     "text": [
      "<generator object sqr at 0x00000167B7173AC0>\n"
     ]
    }
   ],
   "source": [
    "# generator \n",
    "\n",
    "def sqr(n):\n",
    "    for i in range(n):\n",
    "        yield(i*i)\n",
    "    \n",
    "x = sqr(4)\n",
    "print(x)"
   ]
  },
  {
   "cell_type": "code",
   "execution_count": 2,
   "id": "e78cf8f5",
   "metadata": {},
   "outputs": [
    {
     "data": {
      "text/plain": [
       "0"
      ]
     },
     "execution_count": 2,
     "metadata": {},
     "output_type": "execute_result"
    }
   ],
   "source": [
    "next(x)"
   ]
  },
  {
   "cell_type": "code",
   "execution_count": 5,
   "id": "5a54241a",
   "metadata": {},
   "outputs": [
    {
     "name": "stdout",
     "output_type": "stream",
     "text": [
      "0\n",
      "1\n",
      "4\n"
     ]
    }
   ],
   "source": [
    "print(next(x))\n",
    "print(next(x))\n",
    "print(next(x))\n",
    "#next(x)"
   ]
  },
  {
   "cell_type": "code",
   "execution_count": 4,
   "id": "f72bb4e6",
   "metadata": {},
   "outputs": [],
   "source": [
    "x = sqr(4)"
   ]
  },
  {
   "cell_type": "code",
   "execution_count": 27,
   "id": "9f01613c",
   "metadata": {},
   "outputs": [
    {
     "name": "stdout",
     "output_type": "stream",
     "text": [
      "10\n"
     ]
    }
   ],
   "source": [
    "z = sum(li)\n",
    "print(z)"
   ]
  },
  {
   "cell_type": "code",
   "execution_count": 34,
   "id": "37b3dc29",
   "metadata": {},
   "outputs": [],
   "source": [
    "dic = {'A':'a','B':'b','C':'c'}"
   ]
  },
  {
   "cell_type": "code",
   "execution_count": 36,
   "id": "82beee70",
   "metadata": {},
   "outputs": [
    {
     "data": {
      "text/plain": [
       "'a'"
      ]
     },
     "execution_count": 36,
     "metadata": {},
     "output_type": "execute_result"
    }
   ],
   "source": [
    "dic.get('A')"
   ]
  },
  {
   "cell_type": "code",
   "execution_count": 31,
   "id": "caeca871",
   "metadata": {},
   "outputs": [
    {
     "data": {
      "text/plain": [
       "{'A': 'a', 'B': 'b', 'C': 'c'}"
      ]
     },
     "execution_count": 31,
     "metadata": {},
     "output_type": "execute_result"
    }
   ],
   "source": [
    "dic"
   ]
  },
  {
   "cell_type": "code",
   "execution_count": 40,
   "id": "8a01e239",
   "metadata": {},
   "outputs": [
    {
     "data": {
      "text/plain": [
       "'a'"
      ]
     },
     "execution_count": 40,
     "metadata": {},
     "output_type": "execute_result"
    }
   ],
   "source": [
    "dic.pop('A')"
   ]
  },
  {
   "cell_type": "code",
   "execution_count": 41,
   "id": "27d18e56",
   "metadata": {},
   "outputs": [
    {
     "data": {
      "text/plain": [
       "{'B': 'b', 'C': 'c'}"
      ]
     },
     "execution_count": 41,
     "metadata": {},
     "output_type": "execute_result"
    }
   ],
   "source": [
    "dic"
   ]
  },
  {
   "cell_type": "code",
   "execution_count": 42,
   "id": "24d65f8d",
   "metadata": {},
   "outputs": [],
   "source": [
    "del dic['B']"
   ]
  },
  {
   "cell_type": "code",
   "execution_count": 43,
   "id": "fda961c2",
   "metadata": {},
   "outputs": [
    {
     "data": {
      "text/plain": [
       "{'C': 'c'}"
      ]
     },
     "execution_count": 43,
     "metadata": {},
     "output_type": "execute_result"
    }
   ],
   "source": [
    "dic"
   ]
  },
  {
   "cell_type": "code",
   "execution_count": null,
   "id": "36260a14",
   "metadata": {},
   "outputs": [],
   "source": []
  }
 ],
 "metadata": {
  "kernelspec": {
   "display_name": "Python 3 (ipykernel)",
   "language": "python",
   "name": "python3"
  },
  "language_info": {
   "codemirror_mode": {
    "name": "ipython",
    "version": 3
   },
   "file_extension": ".py",
   "mimetype": "text/x-python",
   "name": "python",
   "nbconvert_exporter": "python",
   "pygments_lexer": "ipython3",
   "version": "3.8.12"
  }
 },
 "nbformat": 4,
 "nbformat_minor": 5
}
