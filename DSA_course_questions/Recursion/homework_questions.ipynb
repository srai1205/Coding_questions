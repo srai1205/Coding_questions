{
 "cells": [
  {
   "cell_type": "code",
   "execution_count": 6,
   "id": "2d616069",
   "metadata": {},
   "outputs": [],
   "source": [
    "def home1(n):\n",
    "    \n",
    "    if n == 1:\n",
    "        return 1\n",
    "    else:\n",
    "        return n + home1(n-1)"
   ]
  },
  {
   "cell_type": "code",
   "execution_count": 7,
   "id": "db5fac4e",
   "metadata": {},
   "outputs": [
    {
     "data": {
      "text/plain": [
       "55"
      ]
     },
     "execution_count": 7,
     "metadata": {},
     "output_type": "execute_result"
    }
   ],
   "source": [
    "home1(10)"
   ]
  },
  {
   "cell_type": "code",
   "execution_count": 21,
   "id": "01b56ef2",
   "metadata": {},
   "outputs": [],
   "source": [
    "def home2(n):\n",
    "    \n",
    "    if n%10<1:\n",
    "        return n\n",
    "    else:\n",
    "        return n%10 + home2(int(n/10))"
   ]
  },
  {
   "cell_type": "code",
   "execution_count": 25,
   "id": "9bac2cf4",
   "metadata": {},
   "outputs": [
    {
     "data": {
      "text/plain": [
       "6"
      ]
     },
     "execution_count": 25,
     "metadata": {},
     "output_type": "execute_result"
    }
   ],
   "source": [
    "home2(123)"
   ]
  },
  {
   "cell_type": "code",
   "execution_count": 20,
   "id": "6e857a17",
   "metadata": {},
   "outputs": [
    {
     "name": "stdout",
     "output_type": "stream",
     "text": [
      "432\n"
     ]
    }
   ],
   "source": [
    "print(int(4327/10))"
   ]
  },
  {
   "cell_type": "code",
   "execution_count": 26,
   "id": "6d37163c",
   "metadata": {},
   "outputs": [],
   "source": [
    "def home3(string,li,output=None):\n",
    "    \n",
    "    if output is None:\n",
    "        output = []\n",
    "        \n",
    "    for i in li:\n",
    "        if string.startswith(i):\n",
    "            output.append(i)\n",
    "            home3(string[len(i):],li,output)\n",
    "    return output\n",
    "    "
   ]
  },
  {
   "cell_type": "code",
   "execution_count": 34,
   "id": "88cf3f15",
   "metadata": {},
   "outputs": [
    {
     "data": {
      "text/plain": [
       "['the', 'man', 'ran']"
      ]
     },
     "execution_count": 34,
     "metadata": {},
     "output_type": "execute_result"
    }
   ],
   "source": [
    "home3('themanran',['the','man','ran','ew'])"
   ]
  },
  {
   "cell_type": "code",
   "execution_count": null,
   "id": "3ad6547f",
   "metadata": {},
   "outputs": [],
   "source": []
  }
 ],
 "metadata": {
  "kernelspec": {
   "display_name": "Python 3",
   "language": "python",
   "name": "python3"
  },
  "language_info": {
   "codemirror_mode": {
    "name": "ipython",
    "version": 3
   },
   "file_extension": ".py",
   "mimetype": "text/x-python",
   "name": "python",
   "nbconvert_exporter": "python",
   "pygments_lexer": "ipython3",
   "version": "3.8.8"
  }
 },
 "nbformat": 4,
 "nbformat_minor": 5
}
