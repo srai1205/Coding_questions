{
 "cells": [
  {
   "cell_type": "code",
   "execution_count": null,
   "id": "124c0f22",
   "metadata": {},
   "outputs": [],
   "source": [
    "def shu(sum,list): \n",
    "    if x in sum:\n",
    "        return x\n",
    "    else:\n",
    "        for i in list:\n",
    "            for k in [y for y in list if y>i]:\n",
    "                \n",
    "            "
   ]
  },
  {
   "cell_type": "code",
   "execution_count": 5,
   "id": "a2e28239",
   "metadata": {},
   "outputs": [
    {
     "name": "stdout",
     "output_type": "stream",
     "text": [
      "(1, 2, 3, 4)\n"
     ]
    }
   ],
   "source": [
    "tu = (1,2)\n",
    "tx = (3,4)\n",
    "tz = tu +tx\n",
    "print(tz)"
   ]
  },
  {
   "cell_type": "code",
   "execution_count": 15,
   "id": "1ded972d",
   "metadata": {},
   "outputs": [
    {
     "name": "stdout",
     "output_type": "stream",
     "text": [
      "[1, 2, 3]\n",
      "[1, 2]\n",
      "[1, 3]\n",
      "[1]\n",
      "[2, 3]\n",
      "[2]\n",
      "[3]\n"
     ]
    }
   ],
   "source": [
    "\n",
    "# Python3 code to print all possible \n",
    "# subsequences for given array using \n",
    "# recursion\n",
    "   \n",
    "# Recursive function to print all\n",
    "# possible subsequences for given array\n",
    "def printSubsequences(arr, index, subarr):\n",
    "       \n",
    "    # Print the subsequence when reach \n",
    "    # the leaf of recursion tree\n",
    "    if index == len(arr):\n",
    "           \n",
    "        # Condition to avoid printing\n",
    "        # empty subsequence\n",
    "        if len(subarr) != 0:\n",
    "            print(subarr)\n",
    "       \n",
    "    else:\n",
    "        # Subsequence including the element\n",
    "        # at current index\n",
    "        printSubsequences(arr, index + 1, subarr+[arr[index]])\n",
    "        \n",
    "        # Subsequence without including \n",
    "        # the element at current index\n",
    "        printSubsequences(arr, index + 1, subarr)\n",
    "           \n",
    "       \n",
    "    return\n",
    "           \n",
    "arr = [1, 2, 3]\n",
    "   \n",
    "printSubsequences(arr, 0, [])"
   ]
  },
  {
   "cell_type": "code",
   "execution_count": 10,
   "id": "414b904b",
   "metadata": {},
   "outputs": [
    {
     "name": "stdout",
     "output_type": "stream",
     "text": [
      "[1, 2, 3]\n"
     ]
    }
   ],
   "source": [
    "x= [1,2]\n",
    "\n",
    "li = [1,2,3,4]\n",
    "x = x + [li[2]]\n",
    "print(x)"
   ]
  },
  {
   "cell_type": "code",
   "execution_count": 38,
   "id": "f7f05bea",
   "metadata": {},
   "outputs": [
    {
     "name": "stdout",
     "output_type": "stream",
     "text": [
      "5 2 8 2 5 2 \n",
      "2 5 2 6 2 5 2 8 2 5 2 4 5 2 8 2 5 2 \n",
      "2 11 2 5 2 8 2 5 2 4 2 5 2 8 2 5 2 6 2 5 2 8 2 5 2 4 5 2 8 2 5 2 \n"
     ]
    }
   ],
   "source": [
    "# Python program to print all subsets with given sum\n",
    " \n",
    "# The vector v stores current subset.\n",
    "def printAllSubsetsRec(arr, n, v, sum) :\n",
    " \n",
    "    # If remaining sum is 0, then print all\n",
    "    # elements of current subset.\n",
    "    if (sum == 0) :\n",
    "        #v.reverse()\n",
    "        for value in v[::-1]:\n",
    "            print(value, end=\" \")\n",
    "        print()\n",
    "        return\n",
    "     \n",
    " \n",
    "    # If no remaining elements,\n",
    "    if (n == 0):\n",
    "        return\n",
    " \n",
    "    # We consider two cases for every element.\n",
    "    # a) We do not include last element.\n",
    "    # b) We include last element in current subset.\n",
    "    printAllSubsetsRec(arr, n - 1, v, sum)\n",
    "    v1 = [] + v\n",
    "    v1.append(arr[n - 1])\n",
    "    printAllSubsetsRec(arr, n - 1, v1, sum - arr[n - 1])\n",
    " \n",
    " \n",
    "# Wrapper over printAllSubsetsRec()\n",
    "def printAllSubsets(arr, n, sum):\n",
    " \n",
    "    v = []\n",
    "    printAllSubsetsRec(arr, n, v, sum)\n",
    " \n",
    " \n",
    "# Driver code\n",
    " \n",
    "arr = [ 2, 5, 8, 4, 6, 11 ]\n",
    "sum = 13\n",
    "n = len(arr)\n",
    "printAllSubsets(arr, n, sum)"
   ]
  },
  {
   "cell_type": "code",
   "execution_count": 33,
   "id": "9f3b0d9f",
   "metadata": {},
   "outputs": [
    {
     "name": "stdout",
     "output_type": "stream",
     "text": [
      "1 2 7 \n",
      "1 9 \n"
     ]
    }
   ],
   "source": [
    "arr = [ 1,2,7,9 ]\n",
    "sum = 10\n",
    "n = len(arr)\n",
    "printAllSubsets(arr, n, sum)"
   ]
  },
  {
   "cell_type": "code",
   "execution_count": 36,
   "id": "d225af1e",
   "metadata": {},
   "outputs": [],
   "source": [
    "def subsequence(arr,index,sub):\n",
    "    \n",
    "    if len(arr) == index:\n",
    "        for x in sub:\n",
    "            print(x,end=' ')\n",
    "        print() \n",
    "    else:\n",
    "        subsequence(arr,index+1,sub + [arr[index]])\n",
    "        subsequence(arr,index+1,sub)\n",
    "        "
   ]
  },
  {
   "cell_type": "code",
   "execution_count": 37,
   "id": "39afe2e8",
   "metadata": {},
   "outputs": [
    {
     "name": "stdout",
     "output_type": "stream",
     "text": [
      "1 2 3 \n",
      "1 2 \n",
      "1 3 \n",
      "1 \n",
      "2 3 \n",
      "2 \n",
      "3 \n",
      "\n"
     ]
    }
   ],
   "source": [
    "arr = [1, 2, 3]\n",
    "   \n",
    "subsequence(arr, 0, [])"
   ]
  },
  {
   "cell_type": "code",
   "execution_count": 73,
   "id": "48c4f854",
   "metadata": {},
   "outputs": [
    {
     "name": "stdout",
     "output_type": "stream",
     "text": [
      "8 5 \n",
      "6 5 2 \n",
      "11 2 \n"
     ]
    }
   ],
   "source": [
    "def subsequence_sum(arr,summ,n,v):\n",
    "    \n",
    "    if summ == 0:\n",
    "        for value in v:\n",
    "            print(value,end=' ')\n",
    "        print()\n",
    "        return    \n",
    "    if (n == 0):\n",
    "        return\n",
    "    subsequence_sum(arr,summ,n-1,v)\n",
    "    v1 = [] + v \n",
    "    v1.append(arr[n-1])\n",
    "    subsequence_sum(arr,summ-arr[n-1],n-1,v1)\n",
    "\n",
    "def subsequence_set(arr,summ,n):\n",
    "    v=[]\n",
    "    subsequence_sum(arr,summ,n,v)\n",
    "    \n",
    "    \n",
    "arr = [ 2, 5, 8, 4, 6, 11 ]\n",
    "summ = 13\n",
    "n = len(arr)\n",
    "subsequence_set(arr,summ,n)"
   ]
  },
  {
   "cell_type": "code",
   "execution_count": null,
   "id": "e270cbc5",
   "metadata": {},
   "outputs": [],
   "source": []
  }
 ],
 "metadata": {
  "kernelspec": {
   "display_name": "Python 3",
   "language": "python",
   "name": "python3"
  },
  "language_info": {
   "codemirror_mode": {
    "name": "ipython",
    "version": 3
   },
   "file_extension": ".py",
   "mimetype": "text/x-python",
   "name": "python",
   "nbconvert_exporter": "python",
   "pygments_lexer": "ipython3",
   "version": "3.8.8"
  }
 },
 "nbformat": 4,
 "nbformat_minor": 5
}
