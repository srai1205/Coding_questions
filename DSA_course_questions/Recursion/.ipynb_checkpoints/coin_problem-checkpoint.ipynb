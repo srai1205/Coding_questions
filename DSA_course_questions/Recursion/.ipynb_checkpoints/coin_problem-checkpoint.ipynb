{
 "cells": [
  {
   "cell_type": "code",
   "execution_count": 49,
   "id": "8d4225d7",
   "metadata": {},
   "outputs": [],
   "source": [
    "#simple recusion \n",
    "def coin_rec(target,coins):\n",
    "    \n",
    "    min_coins = target\n",
    "    \n",
    "    #base condition\n",
    "    if target in coins:\n",
    "        return 1\n",
    "    # recusion condition\n",
    "    else:\n",
    "        for i in [c for c in coins if c < target]:\n",
    "            \n",
    "            num_coins = 1 + coin_rec(target-i,coins)\n",
    "            \n",
    "            if num_coins < min_coins:\n",
    "                \n",
    "                min_coins = num_coins\n",
    "    return min_coins\n",
    "        "
   ]
  },
  {
   "cell_type": "code",
   "execution_count": 50,
   "id": "6ccf320b",
   "metadata": {},
   "outputs": [
    {
     "data": {
      "text/plain": [
       "2"
      ]
     },
     "execution_count": 50,
     "metadata": {},
     "output_type": "execute_result"
    }
   ],
   "source": [
    "target = 26\n",
    "coins = [1,5,10,25]\n",
    "coin_rec(target,coins)"
   ]
  },
  {
   "cell_type": "code",
   "execution_count": 58,
   "id": "534965a3",
   "metadata": {},
   "outputs": [],
   "source": [
    "def coin_rec_dyn(target,coins,known_target):\n",
    "    \n",
    "    min_coins = target\n",
    "    \n",
    "    #base condition\n",
    "    if target in coins:\n",
    "        known_target[target] = 1\n",
    "        return 1\n",
    "        \n",
    "    elif known_target[target] >0:\n",
    "        return known_target[target] \n",
    "    # recusion condition\n",
    "    else:\n",
    "        for i in [c for c in coins if c <= target]:\n",
    "            \n",
    "            num_coins = 1 + coin_rec_dyn(target-i,coins,known_target)\n",
    "            \n",
    "            if num_coins < min_coins:\n",
    "                \n",
    "                min_coins = num_coins\n",
    "                Known_target[target] = min_coins\n",
    "    return min_coins"
   ]
  },
  {
   "cell_type": "code",
   "execution_count": 59,
   "id": "a1b1df4e",
   "metadata": {},
   "outputs": [
    {
     "ename": "IndexError",
     "evalue": "list index out of range",
     "output_type": "error",
     "traceback": [
      "\u001b[1;31m---------------------------------------------------------------------------\u001b[0m",
      "\u001b[1;31mIndexError\u001b[0m                                Traceback (most recent call last)",
      "\u001b[1;32m<ipython-input-59-4e5d2dffb7be>\u001b[0m in \u001b[0;36m<module>\u001b[1;34m\u001b[0m\n\u001b[0;32m      2\u001b[0m \u001b[0mcoins\u001b[0m \u001b[1;33m=\u001b[0m \u001b[1;33m[\u001b[0m\u001b[1;36m1\u001b[0m\u001b[1;33m,\u001b[0m\u001b[1;36m5\u001b[0m\u001b[1;33m,\u001b[0m\u001b[1;36m10\u001b[0m\u001b[1;33m,\u001b[0m\u001b[1;36m25\u001b[0m\u001b[1;33m]\u001b[0m\u001b[1;33m\u001b[0m\u001b[1;33m\u001b[0m\u001b[0m\n\u001b[0;32m      3\u001b[0m \u001b[0mknown_target\u001b[0m \u001b[1;33m=\u001b[0m \u001b[1;33m[\u001b[0m\u001b[1;36m0\u001b[0m\u001b[1;33m]\u001b[0m\u001b[1;33m*\u001b[0m\u001b[1;33m(\u001b[0m\u001b[1;36m74\u001b[0m\u001b[1;33m)\u001b[0m\u001b[1;33m\u001b[0m\u001b[1;33m\u001b[0m\u001b[0m\n\u001b[1;32m----> 4\u001b[1;33m \u001b[0mcoin_rec_dyn\u001b[0m\u001b[1;33m(\u001b[0m\u001b[0mtarget\u001b[0m\u001b[1;33m,\u001b[0m\u001b[0mcoins\u001b[0m\u001b[1;33m,\u001b[0m\u001b[0mknown_target\u001b[0m\u001b[1;33m)\u001b[0m\u001b[1;33m\u001b[0m\u001b[1;33m\u001b[0m\u001b[0m\n\u001b[0m",
      "\u001b[1;32m<ipython-input-58-3f88e9263cf7>\u001b[0m in \u001b[0;36mcoin_rec_dyn\u001b[1;34m(target, coins, known_target)\u001b[0m\n\u001b[0;32m      8\u001b[0m         \u001b[1;32mreturn\u001b[0m \u001b[1;36m1\u001b[0m\u001b[1;33m\u001b[0m\u001b[1;33m\u001b[0m\u001b[0m\n\u001b[0;32m      9\u001b[0m \u001b[1;33m\u001b[0m\u001b[0m\n\u001b[1;32m---> 10\u001b[1;33m     \u001b[1;32melif\u001b[0m \u001b[0mknown_target\u001b[0m\u001b[1;33m[\u001b[0m\u001b[0mtarget\u001b[0m\u001b[1;33m]\u001b[0m \u001b[1;33m>\u001b[0m\u001b[1;36m0\u001b[0m\u001b[1;33m:\u001b[0m\u001b[1;33m\u001b[0m\u001b[1;33m\u001b[0m\u001b[0m\n\u001b[0m\u001b[0;32m     11\u001b[0m         \u001b[1;32mreturn\u001b[0m \u001b[0mknown_target\u001b[0m\u001b[1;33m[\u001b[0m\u001b[0mtarget\u001b[0m\u001b[1;33m]\u001b[0m\u001b[1;33m\u001b[0m\u001b[1;33m\u001b[0m\u001b[0m\n\u001b[0;32m     12\u001b[0m     \u001b[1;31m# recusion condition\u001b[0m\u001b[1;33m\u001b[0m\u001b[1;33m\u001b[0m\u001b[1;33m\u001b[0m\u001b[0m\n",
      "\u001b[1;31mIndexError\u001b[0m: list index out of range"
     ]
    }
   ],
   "source": [
    "target = 74\n",
    "coins = [1,5,10,25]\n",
    "known_target = [0]*(74)\n",
    "coin_rec_dyn(target,coins,known_target)"
   ]
  },
  {
   "cell_type": "code",
   "execution_count": null,
   "id": "d6b5d780",
   "metadata": {},
   "outputs": [],
   "source": [
    "def coin_exchange_iter(a,li):\n",
    "    dic = {}\n",
    "    while len(li) > 0:\n",
    "        x = a/max(li)\n",
    "        a = a - int(x)*max(li)\n",
    "        dic[max(li)] = int(x) \n",
    "        if(x.is_integer()):\n",
    "            break\n",
    "        else:\n",
    "            li.remove(max(li))\n",
    "    return dic"
   ]
  },
  {
   "cell_type": "code",
   "execution_count": 45,
   "id": "0d21015c",
   "metadata": {},
   "outputs": [
    {
     "data": {
      "text/plain": [
       "{25: 2, 10: 2, 5: 0, 1: 4}"
      ]
     },
     "execution_count": 45,
     "metadata": {},
     "output_type": "execute_result"
    }
   ],
   "source": [
    "li = [1,5,25,10]\n",
    "coin_exchange_iter(74,li)"
   ]
  },
  {
   "cell_type": "code",
   "execution_count": 38,
   "id": "412d5467",
   "metadata": {},
   "outputs": [
    {
     "name": "stdout",
     "output_type": "stream",
     "text": [
      "True\n"
     ]
    }
   ],
   "source": [
    "li = [1,5,25,10]\n",
    "if 10 in li:\n",
    "    print(True)\n",
    "else:\n",
    "    print(False)"
   ]
  },
  {
   "cell_type": "code",
   "execution_count": null,
   "id": "de77279d",
   "metadata": {},
   "outputs": [],
   "source": []
  }
 ],
 "metadata": {
  "kernelspec": {
   "display_name": "Python 3",
   "language": "python",
   "name": "python3"
  },
  "language_info": {
   "codemirror_mode": {
    "name": "ipython",
    "version": 3
   },
   "file_extension": ".py",
   "mimetype": "text/x-python",
   "name": "python",
   "nbconvert_exporter": "python",
   "pygments_lexer": "ipython3",
   "version": "3.8.8"
  }
 },
 "nbformat": 4,
 "nbformat_minor": 5
}
