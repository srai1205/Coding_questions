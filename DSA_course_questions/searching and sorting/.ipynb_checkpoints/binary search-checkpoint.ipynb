{
 "cells": [
  {
   "cell_type": "code",
   "execution_count": 19,
   "id": "ba6f7806",
   "metadata": {},
   "outputs": [],
   "source": [
    "def Binary_search(arr,ele):\n",
    "    first = 0\n",
    "    found = False\n",
    "    last = len(arr) -1\n",
    "    while first >= last and not found:\n",
    "        mid = (last + first)/2\n",
    "        if arr[mid] == ele:\n",
    "            found = True\n",
    "        else:\n",
    "            if ele < arr[mid]:\n",
    "                first= mid + 1\n",
    "            else:\n",
    "                last = mid - 1 \n",
    "    return found\n",
    "    \n",
    "        "
   ]
  },
  {
   "cell_type": "code",
   "execution_count": 20,
   "id": "65ad256c",
   "metadata": {},
   "outputs": [
    {
     "data": {
      "text/plain": [
       "False"
      ]
     },
     "execution_count": 20,
     "metadata": {},
     "output_type": "execute_result"
    }
   ],
   "source": [
    "arr = [3,12,18,23,64,71]\n",
    "ele=64\n",
    "Binary_search(arr,ele)"
   ]
  },
  {
   "cell_type": "code",
   "execution_count": null,
   "id": "2bc74c34",
   "metadata": {},
   "outputs": [],
   "source": []
  }
 ],
 "metadata": {
  "kernelspec": {
   "display_name": "Python 3",
   "language": "python",
   "name": "python3"
  },
  "language_info": {
   "codemirror_mode": {
    "name": "ipython",
    "version": 3
   },
   "file_extension": ".py",
   "mimetype": "text/x-python",
   "name": "python",
   "nbconvert_exporter": "python",
   "pygments_lexer": "ipython3",
   "version": "3.8.8"
  }
 },
 "nbformat": 4,
 "nbformat_minor": 5
}
