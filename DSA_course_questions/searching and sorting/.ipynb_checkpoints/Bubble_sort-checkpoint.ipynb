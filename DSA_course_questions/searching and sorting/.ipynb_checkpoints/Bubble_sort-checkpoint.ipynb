{
 "cells": [
  {
   "cell_type": "code",
   "execution_count": 7,
   "id": "e1efbe02",
   "metadata": {},
   "outputs": [],
   "source": [
    "def Bubblesort(li):\n",
    "    length = len(li)\n",
    "    for i in range(0,length):\n",
    "        for j in range(0,length-i-1):\n",
    "            if li[j] > li[j+1]:\n",
    "                li[j],li[j+1] = li[j+1],li[j]\n",
    "    return li\n"
   ]
  },
  {
   "cell_type": "code",
   "execution_count": 8,
   "id": "fe57771c",
   "metadata": {},
   "outputs": [
    {
     "name": "stdout",
     "output_type": "stream",
     "text": [
      "[2, 3, 8, 17, 68, 75, 93]\n"
     ]
    }
   ],
   "source": [
    "li = [3,2,8,93,75,17,68]\n",
    "x = Bubblesort(li)\n",
    "print(x)"
   ]
  },
  {
   "cell_type": "code",
   "execution_count": null,
   "id": "72d72c5e",
   "metadata": {},
   "outputs": [],
   "source": []
  }
 ],
 "metadata": {
  "kernelspec": {
   "display_name": "Python 3",
   "language": "python",
   "name": "python3"
  },
  "language_info": {
   "codemirror_mode": {
    "name": "ipython",
    "version": 3
   },
   "file_extension": ".py",
   "mimetype": "text/x-python",
   "name": "python",
   "nbconvert_exporter": "python",
   "pygments_lexer": "ipython3",
   "version": "3.8.8"
  }
 },
 "nbformat": 4,
 "nbformat_minor": 5
}
