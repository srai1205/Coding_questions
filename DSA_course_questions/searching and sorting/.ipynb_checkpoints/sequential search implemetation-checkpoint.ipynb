{
 "cells": [
  {
   "cell_type": "code",
   "execution_count": 9,
   "id": "a06ac70a",
   "metadata": {},
   "outputs": [],
   "source": [
    "#unorder one\n",
    "def unorder_sequential_search(arr,ele):\n",
    "    \n",
    "    found = False\n",
    "    position = 0\n",
    "    \n",
    "    while position < len(arr) and not found:\n",
    "        \n",
    "        if arr[position] == ele:\n",
    "            found = True\n",
    "        else:\n",
    "            position +=1\n",
    "    \n",
    "    return found"
   ]
  },
  {
   "cell_type": "code",
   "execution_count": 14,
   "id": "2728a07e",
   "metadata": {},
   "outputs": [
    {
     "data": {
      "text/plain": [
       "False"
      ]
     },
     "execution_count": 14,
     "metadata": {},
     "output_type": "execute_result"
    }
   ],
   "source": [
    "arr = (12,3,18,71,23,64)\n",
    "ele=28\n",
    "unorder_sequential_search(arr,ele)"
   ]
  },
  {
   "cell_type": "code",
   "execution_count": 15,
   "id": "03bfa26a",
   "metadata": {},
   "outputs": [],
   "source": [
    "#order one\n",
    "# In this we also check whether the searching element is less then the traversal element and if its then stop iterating  \n",
    "def order_sequential_search(arr,ele):\n",
    "    \n",
    "    found = False\n",
    "    position = 0\n",
    "    stopped = False\n",
    "    while position < len(arr) and not found and not stopped:\n",
    "        \n",
    "        if arr[position] == ele:\n",
    "            found = True\n",
    "        else:\n",
    "            if arr[position] > ele:\n",
    "                stopped = True\n",
    "            else:\n",
    "                position +=1\n",
    "    \n",
    "    return found"
   ]
  },
  {
   "cell_type": "code",
   "execution_count": 19,
   "id": "b336b49c",
   "metadata": {},
   "outputs": [
    {
     "data": {
      "text/plain": [
       "True"
      ]
     },
     "execution_count": 19,
     "metadata": {},
     "output_type": "execute_result"
    }
   ],
   "source": [
    "arr = (3,12,18,23,64,71)\n",
    "ele=64\n",
    "order_sequential_search(arr,ele)"
   ]
  },
  {
   "cell_type": "code",
   "execution_count": null,
   "id": "b9609c36",
   "metadata": {},
   "outputs": [],
   "source": []
  }
 ],
 "metadata": {
  "kernelspec": {
   "display_name": "Python 3",
   "language": "python",
   "name": "python3"
  },
  "language_info": {
   "codemirror_mode": {
    "name": "ipython",
    "version": 3
   },
   "file_extension": ".py",
   "mimetype": "text/x-python",
   "name": "python",
   "nbconvert_exporter": "python",
   "pygments_lexer": "ipython3",
   "version": "3.8.8"
  }
 },
 "nbformat": 4,
 "nbformat_minor": 5
}
