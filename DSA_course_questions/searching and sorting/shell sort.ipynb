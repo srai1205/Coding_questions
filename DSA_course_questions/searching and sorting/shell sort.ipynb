{
 "cells": [
  {
   "cell_type": "code",
   "execution_count": 23,
   "id": "f2e5ed9e",
   "metadata": {},
   "outputs": [],
   "source": [
    "def shell(li):\n",
    "    sublist = len(li)//2\n",
    "    while sublist >0:\n",
    "        for start in range(sublist):\n",
    "            insertion_sort_gap(li,start,sublist)\n",
    "        print('size of sublist is:-',sublist)\n",
    "        print('value of li:-',li)\n",
    "        sublist = sublist//2\n",
    "    #return li\n",
    "def insertion_sort_gap(li,start,gap):\n",
    "    for i in range(start+gap,len(li),gap):\n",
    "        currentval = li[i]\n",
    "        position = i\n",
    "        print('value of i',i,'value of current',currentval,'value of start',start)\n",
    "        while position > 0 and li[position-gap] > currentval:\n",
    "            li[position] = li[position-gap]\n",
    "            position = position - gap\n",
    "            print('value of li',li[position],'value of position',position)\n",
    "        li[position] = currentval\n",
    "        print('value of li is:-',li,'current value',currentval)\n",
    "         \n",
    "        "
   ]
  },
  {
   "cell_type": "code",
   "execution_count": 24,
   "id": "4c3262dd",
   "metadata": {},
   "outputs": [
    {
     "name": "stdout",
     "output_type": "stream",
     "text": [
      "value of i 5 value of current 24 value of start 0\n",
      "value of li 45 value of position 0\n",
      "value of li is:- [24, 67, 23, 45, 21, 45, 7, 2, 14, 90, 6] current value 24\n",
      "value of i 10 value of current 6 value of start 0\n",
      "value of li 45 value of position 5\n",
      "value of li 24 value of position 0\n",
      "value of li is:- [6, 67, 23, 45, 21, 24, 7, 2, 14, 90, 45] current value 6\n",
      "value of i 6 value of current 7 value of start 1\n",
      "value of li 67 value of position 1\n",
      "value of li is:- [6, 7, 23, 45, 21, 24, 67, 2, 14, 90, 45] current value 7\n",
      "value of i 7 value of current 2 value of start 2\n",
      "value of li 23 value of position 2\n",
      "value of li 14 value of position -3\n",
      "value of li is:- [6, 7, 14, 45, 21, 24, 67, 23, 2, 90, 45] current value 2\n",
      "value of i 8 value of current 2 value of start 3\n",
      "value of li 45 value of position 3\n",
      "value of li 90 value of position -2\n",
      "value of li is:- [6, 7, 14, 90, 21, 24, 67, 23, 45, 2, 45] current value 2\n",
      "value of i 9 value of current 2 value of start 4\n",
      "value of li 21 value of position 4\n",
      "value of li 45 value of position -1\n",
      "value of li is:- [6, 7, 14, 90, 45, 24, 67, 23, 45, 21, 2] current value 2\n",
      "size of sublist is:- 5\n",
      "value of li:- [6, 7, 14, 90, 45, 24, 67, 23, 45, 21, 2]\n",
      "value of i 2 value of current 14 value of start 0\n",
      "value of li is:- [6, 7, 14, 90, 45, 24, 67, 23, 45, 21, 2] current value 14\n",
      "value of i 4 value of current 45 value of start 0\n",
      "value of li is:- [6, 7, 14, 90, 45, 24, 67, 23, 45, 21, 2] current value 45\n",
      "value of i 6 value of current 67 value of start 0\n",
      "value of li is:- [6, 7, 14, 90, 45, 24, 67, 23, 45, 21, 2] current value 67\n",
      "value of i 8 value of current 45 value of start 0\n",
      "value of li 67 value of position 6\n",
      "value of li is:- [6, 7, 14, 90, 45, 24, 45, 23, 67, 21, 2] current value 45\n",
      "value of i 10 value of current 2 value of start 0\n",
      "value of li 67 value of position 8\n",
      "value of li 45 value of position 6\n",
      "value of li 45 value of position 4\n",
      "value of li 14 value of position 2\n",
      "value of li 6 value of position 0\n",
      "value of li is:- [2, 7, 6, 90, 14, 24, 45, 23, 45, 21, 67] current value 2\n",
      "value of i 3 value of current 90 value of start 1\n",
      "value of li is:- [2, 7, 6, 90, 14, 24, 45, 23, 45, 21, 67] current value 90\n",
      "value of i 5 value of current 24 value of start 1\n",
      "value of li 90 value of position 3\n",
      "value of li is:- [2, 7, 6, 24, 14, 90, 45, 23, 45, 21, 67] current value 24\n",
      "value of i 7 value of current 23 value of start 1\n",
      "value of li 90 value of position 5\n",
      "value of li 24 value of position 3\n",
      "value of li is:- [2, 7, 6, 23, 14, 24, 45, 90, 45, 21, 67] current value 23\n",
      "value of i 9 value of current 21 value of start 1\n",
      "value of li 90 value of position 7\n",
      "value of li 24 value of position 5\n",
      "value of li 23 value of position 3\n",
      "value of li is:- [2, 7, 6, 21, 14, 23, 45, 24, 45, 90, 67] current value 21\n",
      "size of sublist is:- 2\n",
      "value of li:- [2, 7, 6, 21, 14, 23, 45, 24, 45, 90, 67]\n",
      "value of i 1 value of current 7 value of start 0\n",
      "value of li is:- [2, 7, 6, 21, 14, 23, 45, 24, 45, 90, 67] current value 7\n",
      "value of i 2 value of current 6 value of start 0\n",
      "value of li 7 value of position 1\n",
      "value of li is:- [2, 6, 7, 21, 14, 23, 45, 24, 45, 90, 67] current value 6\n",
      "value of i 3 value of current 21 value of start 0\n",
      "value of li is:- [2, 6, 7, 21, 14, 23, 45, 24, 45, 90, 67] current value 21\n",
      "value of i 4 value of current 14 value of start 0\n",
      "value of li 21 value of position 3\n",
      "value of li is:- [2, 6, 7, 14, 21, 23, 45, 24, 45, 90, 67] current value 14\n",
      "value of i 5 value of current 23 value of start 0\n",
      "value of li is:- [2, 6, 7, 14, 21, 23, 45, 24, 45, 90, 67] current value 23\n",
      "value of i 6 value of current 45 value of start 0\n",
      "value of li is:- [2, 6, 7, 14, 21, 23, 45, 24, 45, 90, 67] current value 45\n",
      "value of i 7 value of current 24 value of start 0\n",
      "value of li 45 value of position 6\n",
      "value of li is:- [2, 6, 7, 14, 21, 23, 24, 45, 45, 90, 67] current value 24\n",
      "value of i 8 value of current 45 value of start 0\n",
      "value of li is:- [2, 6, 7, 14, 21, 23, 24, 45, 45, 90, 67] current value 45\n",
      "value of i 9 value of current 90 value of start 0\n",
      "value of li is:- [2, 6, 7, 14, 21, 23, 24, 45, 45, 90, 67] current value 90\n",
      "value of i 10 value of current 67 value of start 0\n",
      "value of li 90 value of position 9\n",
      "value of li is:- [2, 6, 7, 14, 21, 23, 24, 45, 45, 67, 90] current value 67\n",
      "size of sublist is:- 1\n",
      "value of li:- [2, 6, 7, 14, 21, 23, 24, 45, 45, 67, 90]\n"
     ]
    },
    {
     "data": {
      "text/plain": [
       "[2, 6, 7, 14, 21, 23, 24, 45, 45, 67, 90]"
      ]
     },
     "execution_count": 24,
     "metadata": {},
     "output_type": "execute_result"
    }
   ],
   "source": [
    "arr = [45,67,23,45,21,24,7,2,14,90,6]\n",
    "shell(arr)\n",
    "arr"
   ]
  },
  {
   "cell_type": "code",
   "execution_count": 12,
   "id": "e1fd895e",
   "metadata": {},
   "outputs": [
    {
     "data": {
      "text/plain": [
       "11"
      ]
     },
     "execution_count": 12,
     "metadata": {},
     "output_type": "execute_result"
    }
   ],
   "source": [
    "len(arr)"
   ]
  },
  {
   "cell_type": "code",
   "execution_count": 11,
   "id": "6bd93370",
   "metadata": {},
   "outputs": [],
   "source": [
    "def shell_sort(arr):\n",
    "    sublistcount = len(arr)/2\n",
    "    \n",
    "    # While we still have sub lists\n",
    "    while sublistcount > 0:\n",
    "        for start in range(sublistcount):\n",
    "            # Use a gap insertion\n",
    "            gap_insertion_sort(arr,start,sublistcount)\n",
    "\n",
    "      \n",
    "\n",
    "        sublistcount = sublistcount / 2\n",
    "\n",
    "def gap_insertion_sort(arr,start,gap):\n",
    "    for i in range(start+gap,len(arr),gap):\n",
    "\n",
    "        currentvalue = arr[i]\n",
    "        position = i\n",
    "\n",
    "        # Using the Gap\n",
    "        while position>=gap and arr[position-gap]>currentvalue:\n",
    "            arr[position]=arr[position-gap]\n",
    "            position = position-gap\n",
    "        \n",
    "        # Set current value\n",
    "        arr[position]=currentvalue"
   ]
  },
  {
   "cell_type": "code",
   "execution_count": null,
   "id": "b553cc2e",
   "metadata": {},
   "outputs": [],
   "source": []
  }
 ],
 "metadata": {
  "kernelspec": {
   "display_name": "Python 3",
   "language": "python",
   "name": "python3"
  },
  "language_info": {
   "codemirror_mode": {
    "name": "ipython",
    "version": 3
   },
   "file_extension": ".py",
   "mimetype": "text/x-python",
   "name": "python",
   "nbconvert_exporter": "python",
   "pygments_lexer": "ipython3",
   "version": "3.8.8"
  }
 },
 "nbformat": 4,
 "nbformat_minor": 5
}
