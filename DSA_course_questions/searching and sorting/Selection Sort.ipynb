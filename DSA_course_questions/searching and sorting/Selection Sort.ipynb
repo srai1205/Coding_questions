{
 "cells": [
  {
   "cell_type": "code",
   "execution_count": 11,
   "id": "b54176eb",
   "metadata": {},
   "outputs": [],
   "source": [
    "#my code we are find minimum and replace it with the first element of that itration \n",
    "def selection(li):\n",
    "    length = len(li)\n",
    "    for i in range(0,length-1):\n",
    "        minindex = i\n",
    "        for j in range(i+1,length):\n",
    "            if li[j] < li[minindex]:\n",
    "                minindex = j\n",
    "        li[i],li[minindex] = li[minindex],li[i]    \n",
    "    return li\n",
    "\n",
    "                \n",
    "    "
   ]
  },
  {
   "cell_type": "code",
   "execution_count": 13,
   "id": "e52c40ca",
   "metadata": {},
   "outputs": [
    {
     "data": {
      "text/plain": [
       "[2, 3, 5, 6, 7, 8, 12, 21, 40]"
      ]
     },
     "execution_count": 13,
     "metadata": {},
     "output_type": "execute_result"
    }
   ],
   "source": [
    "li = [12,78,36,41,1,17,99,25]\n",
    "arr = [3,5,2,7,6,8,12,40,21]\n",
    "selection(arr)"
   ]
  },
  {
   "cell_type": "code",
   "execution_count": 18,
   "id": "700beda0",
   "metadata": {},
   "outputs": [],
   "source": [
    "def selection_sort(arr):\n",
    "    \n",
    "    # For every slot in array\n",
    "    for fillslot in range(len(arr)-1,0,-1):\n",
    "        positionOfMax=0\n",
    "        \n",
    "        # For every set of 0 to fillslot+1\n",
    "        for location in range(1,fillslot+1):\n",
    "            # Set maximum's location\n",
    "            if arr[location]>arr[positionOfMax]:\n",
    "                positionOfMax = location\n",
    "\n",
    "        temp = arr[fillslot]\n",
    "        arr[fillslot] = arr[positionOfMax]\n",
    "        arr[positionOfMax] = temp\n",
    "    return arr\n"
   ]
  },
  {
   "cell_type": "code",
   "execution_count": 22,
   "id": "56f6c49b",
   "metadata": {},
   "outputs": [
    {
     "data": {
      "text/plain": [
       "[2, 3, 5, 6, 7, 8, 12, 21, 40]"
      ]
     },
     "execution_count": 22,
     "metadata": {},
     "output_type": "execute_result"
    }
   ],
   "source": [
    "li = [12,78,36,41,1,17,99,25]\n",
    "arr = [3,5,2,7,6,8,12,40,21]\n",
    "selection_sort(arr)\n"
   ]
  },
  {
   "cell_type": "code",
   "execution_count": 23,
   "id": "f207454c",
   "metadata": {},
   "outputs": [
    {
     "data": {
      "text/plain": [
       "[1, 12, 17, 25, 36, 41, 78, 99]"
      ]
     },
     "execution_count": 23,
     "metadata": {},
     "output_type": "execute_result"
    }
   ],
   "source": [
    "selection_sort(li)"
   ]
  },
  {
   "cell_type": "code",
   "execution_count": null,
   "id": "c7897cfb",
   "metadata": {},
   "outputs": [],
   "source": []
  }
 ],
 "metadata": {
  "kernelspec": {
   "display_name": "Python 3",
   "language": "python",
   "name": "python3"
  },
  "language_info": {
   "codemirror_mode": {
    "name": "ipython",
    "version": 3
   },
   "file_extension": ".py",
   "mimetype": "text/x-python",
   "name": "python",
   "nbconvert_exporter": "python",
   "pygments_lexer": "ipython3",
   "version": "3.8.8"
  }
 },
 "nbformat": 4,
 "nbformat_minor": 5
}
