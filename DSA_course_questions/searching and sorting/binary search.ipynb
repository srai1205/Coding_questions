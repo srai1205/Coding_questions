{
 "cells": [
  {
   "cell_type": "code",
   "execution_count": 1,
   "id": "fd6d5ecf",
   "metadata": {},
   "outputs": [],
   "source": [
    "def Binary_search(arr,ele):\n",
    "    first = 0\n",
    "    last = len(arr) -1\n",
    "    found = False\n",
    "    while first <= last and not found:\n",
    "        mid = (last + first)//2\n",
    "        if arr[mid] == ele:\n",
    "            found = True\n",
    "        else:\n",
    "            if ele > arr[mid]:\n",
    "                first= mid + 1\n",
    "            else:\n",
    "                last = mid - 1 \n",
    "    return found\n",
    "    \n",
    "        "
   ]
  },
  {
   "cell_type": "code",
   "execution_count": 2,
   "id": "3ea1dbad",
   "metadata": {},
   "outputs": [
    {
     "data": {
      "text/plain": [
       "True"
      ]
     },
     "execution_count": 2,
     "metadata": {},
     "output_type": "execute_result"
    }
   ],
   "source": [
    "arr = [3,12,18,23,64,71]\n",
    "Binary_search(arr,64)"
   ]
  },
  {
   "cell_type": "code",
   "execution_count": 68,
   "id": "22cdf91e",
   "metadata": {},
   "outputs": [],
   "source": [
    "def Binary_search_recursion(arr,ele):\n",
    "    if len(arr) == 0:\n",
    "        return False\n",
    "    else:\n",
    "        mid = len(arr)//2\n",
    "        if arr[mid] == ele:\n",
    "            return True\n",
    "        else:\n",
    "            if ele < arr[mid]:\n",
    "                return Binary_search_recursion(arr[:mid],ele)\n",
    "            else:\n",
    "                return Binary_search_recursion(arr[mid+1:],ele)\n",
    " \n",
    "            "
   ]
  },
  {
   "cell_type": "code",
   "execution_count": 69,
   "id": "237be518",
   "metadata": {},
   "outputs": [
    {
     "data": {
      "text/plain": [
       "False"
      ]
     },
     "execution_count": 69,
     "metadata": {},
     "output_type": "execute_result"
    }
   ],
   "source": [
    "arr = [3,12,18,23,64,71,89,98,121,122]\n",
    "Binary_search_recursion(arr,99)"
   ]
  },
  {
   "cell_type": "code",
   "execution_count": 73,
   "id": "8fce1ba0",
   "metadata": {},
   "outputs": [
    {
     "data": {
      "text/plain": [
       "[3, 12, 18, 23, 64, 71, 89, 98, 121]"
      ]
     },
     "execution_count": 73,
     "metadata": {},
     "output_type": "execute_result"
    }
   ],
   "source": [
    "arr[:9]"
   ]
  },
  {
   "cell_type": "code",
   "execution_count": 66,
   "id": "67fdf396",
   "metadata": {},
   "outputs": [],
   "source": [
    "def rec_bin_search(arr,ele):\n",
    "    \n",
    "    # Base Case!\n",
    "    if len(arr) == 0:\n",
    "        return False\n",
    "    \n",
    "    # Recursive Case\n",
    "    else:\n",
    "        \n",
    "        mid = int(len(arr)//2)\n",
    "        \n",
    "        # If match found\n",
    "        if arr[mid]==ele:\n",
    "            return True\n",
    "        \n",
    "        else:\n",
    "            \n",
    "            # Call again on second half\n",
    "            if ele<arr[mid]:\n",
    "                return rec_bin_search(arr[:mid],ele)\n",
    "            \n",
    "            # Or call on first half\n",
    "            else:\n",
    "                return rec_bin_search(arr[mid+1:],ele)\n"
   ]
  },
  {
   "cell_type": "code",
   "execution_count": 67,
   "id": "00535d62",
   "metadata": {},
   "outputs": [
    {
     "data": {
      "text/plain": [
       "False"
      ]
     },
     "execution_count": 67,
     "metadata": {},
     "output_type": "execute_result"
    }
   ],
   "source": [
    "arr = [3,12,18,23,64,71,89,98,121,122]\n",
    "rec_bin_search(arr,99)"
   ]
  },
  {
   "cell_type": "code",
   "execution_count": null,
   "id": "a2d5e1f8",
   "metadata": {},
   "outputs": [],
   "source": []
  }
 ],
 "metadata": {
  "kernelspec": {
   "display_name": "Python 3 (ipykernel)",
   "language": "python",
   "name": "python3"
  },
  "language_info": {
   "codemirror_mode": {
    "name": "ipython",
    "version": 3
   },
   "file_extension": ".py",
   "mimetype": "text/x-python",
   "name": "python",
   "nbconvert_exporter": "python",
   "pygments_lexer": "ipython3",
   "version": "3.9.13"
  }
 },
 "nbformat": 4,
 "nbformat_minor": 5
}
