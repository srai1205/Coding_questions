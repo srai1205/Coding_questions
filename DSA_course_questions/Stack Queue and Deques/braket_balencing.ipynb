{
 "cells": [
  {
   "cell_type": "code",
   "execution_count": 3,
   "id": "36cd16ea",
   "metadata": {},
   "outputs": [],
   "source": [
    "def func(strq):\n",
    "    stack = []\n",
    "    for i in strq:\n",
    "        if i in [\"(\", \"{\", \"[\"]:\n",
    "            stack.append(i)\n",
    "        else:\n",
    "            if not stack:\n",
    "                return False\n",
    "            else:\n",
    "                pervious_bck = stack.pop() \n",
    "                if pervious_bck == '(':\n",
    "                    if i != ')':\n",
    "                        return False\n",
    "                if pervious_bck == '{':\n",
    "                    if i != '}':\n",
    "                        return False\n",
    "                if pervious_bck == '[':\n",
    "                    if i != ']':\n",
    "                        return False\n",
    "    if stack:\n",
    "        return False\n",
    "    return True\n",
    "                "
   ]
  },
  {
   "cell_type": "code",
   "execution_count": 4,
   "id": "11fb84b4",
   "metadata": {},
   "outputs": [
    {
     "data": {
      "text/plain": [
       "False"
      ]
     },
     "execution_count": 4,
     "metadata": {},
     "output_type": "execute_result"
    }
   ],
   "source": [
    "expr = \"{()}[][\"\n",
    "func(expr)"
   ]
  },
  {
   "cell_type": "code",
   "execution_count": 3,
   "id": "38e6af2a",
   "metadata": {},
   "outputs": [
    {
     "name": "stdout",
     "output_type": "stream",
     "text": [
      "yes\n"
     ]
    }
   ],
   "source": [
    "stak = []\n",
    "if not stak:\n",
    "    print(\"yes\")"
   ]
  },
  {
   "cell_type": "code",
   "execution_count": null,
   "id": "c712b0f6",
   "metadata": {},
   "outputs": [],
   "source": []
  }
 ],
 "metadata": {
  "kernelspec": {
   "display_name": "Python 3 (ipykernel)",
   "language": "python",
   "name": "python3"
  },
  "language_info": {
   "codemirror_mode": {
    "name": "ipython",
    "version": 3
   },
   "file_extension": ".py",
   "mimetype": "text/x-python",
   "name": "python",
   "nbconvert_exporter": "python",
   "pygments_lexer": "ipython3",
   "version": "3.8.12"
  }
 },
 "nbformat": 4,
 "nbformat_minor": 5
}
