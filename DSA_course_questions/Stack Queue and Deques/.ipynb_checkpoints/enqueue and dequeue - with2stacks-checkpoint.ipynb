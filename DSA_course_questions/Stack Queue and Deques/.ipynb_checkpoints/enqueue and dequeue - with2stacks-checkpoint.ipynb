{
 "cells": [
  {
   "cell_type": "code",
   "execution_count": 11,
   "id": "03106911",
   "metadata": {},
   "outputs": [],
   "source": [
    "class Queue2Stack(object):\n",
    "    \n",
    "    def __init__(self):\n",
    "        self.instack = []\n",
    "        self.outstack = []\n",
    "        \n",
    "    def enqueue(self,element):\n",
    "        \n",
    "        self.instack.append(element)\n",
    "    \n",
    "    def dequeue(self):\n",
    "        \n",
    "        if not self.outstack:  #if list doesn't contains any element .it goes inside the condition \n",
    "            while self.instack:\n",
    "                \n",
    "                self.outstack.append(self.instack.pop())\n",
    "        return self.outstack.pop()"
   ]
  },
  {
   "cell_type": "code",
   "execution_count": 12,
   "id": "e489e71c",
   "metadata": {},
   "outputs": [],
   "source": [
    "queue = Queue2Stack()"
   ]
  },
  {
   "cell_type": "code",
   "execution_count": 13,
   "id": "84708186",
   "metadata": {},
   "outputs": [],
   "source": [
    "for i in range(5):\n",
    "    queue.enqueue(i)"
   ]
  },
  {
   "cell_type": "code",
   "execution_count": 14,
   "id": "d80c50c7",
   "metadata": {},
   "outputs": [
    {
     "name": "stdout",
     "output_type": "stream",
     "text": [
      "0\n",
      "1\n",
      "2\n",
      "3\n",
      "4\n"
     ]
    }
   ],
   "source": [
    "for i in range(5):\n",
    "    print(queue.dequeue())"
   ]
  },
  {
   "cell_type": "code",
   "execution_count": 2,
   "id": "ffaea3cb",
   "metadata": {},
   "outputs": [],
   "source": [
    "list1 = ['2']\n",
    "\n",
    "if not list1:\n",
    "    print(\"ok\")"
   ]
  },
  {
   "cell_type": "code",
   "execution_count": null,
   "id": "01f7e65f",
   "metadata": {},
   "outputs": [],
   "source": []
  }
 ],
 "metadata": {
  "kernelspec": {
   "display_name": "Python 3",
   "language": "python",
   "name": "python3"
  },
  "language_info": {
   "codemirror_mode": {
    "name": "ipython",
    "version": 3
   },
   "file_extension": ".py",
   "mimetype": "text/x-python",
   "name": "python",
   "nbconvert_exporter": "python",
   "pygments_lexer": "ipython3",
   "version": "3.8.8"
  }
 },
 "nbformat": 4,
 "nbformat_minor": 5
}
