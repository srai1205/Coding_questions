{
 "cells": [
  {
   "cell_type": "code",
   "execution_count": 1,
   "id": "1a1ab82c",
   "metadata": {},
   "outputs": [],
   "source": [
    "# we define three class State,node and graph\n",
    "#below is graph's adjacency list implementation"
   ]
  },
  {
   "cell_type": "code",
   "execution_count": 5,
   "id": "55aaa782",
   "metadata": {},
   "outputs": [],
   "source": [
    "from enum import Enum\n",
    "\n",
    "class State(Enum):\n",
    "    \n",
    "    unvisited = 1 #White\n",
    "    visited = 2 #black\n",
    "    visiting = 3 #grey"
   ]
  },
  {
   "cell_type": "code",
   "execution_count": 4,
   "id": "bcc57e68",
   "metadata": {},
   "outputs": [],
   "source": [
    "class Node:\n",
    "    \n",
    "    def __init__(self,num):\n",
    "        self.num = num\n",
    "        self.visit_state = State.unvisited\n",
    "        self.adjacent = {}   # key = node, val = weight\n",
    "    \n",
    "    def __str__(self):\n",
    "        return str(self.num)\n",
    "    "
   ]
  },
  {
   "cell_type": "code",
   "execution_count": 8,
   "id": "49208a62",
   "metadata": {},
   "outputs": [],
   "source": [
    "class graph:\n",
    "    \n",
    "    def __init__(self):\n",
    "        self.nodes = {}\n",
    "    \n",
    "    def add_node(self,num):\n",
    "        node = Node(num)\n",
    "        self.nodes[num] = node\n",
    "        return node\n",
    "    \n",
    "    def add_edge(self,source,dest,weight=0):\n",
    "        \n",
    "        if source not in self.nodes:\n",
    "            self.add_node(source)\n",
    "            \n",
    "        if dest not in self.nodes:\n",
    "            self.add_node(dest)\n",
    "        self.nodes[source].adjacent[self.nodes[dest]] = weight\n",
    "        "
   ]
  },
  {
   "cell_type": "code",
   "execution_count": 12,
   "id": "33ac07ec",
   "metadata": {},
   "outputs": [],
   "source": [
    "g = graph()\n",
    "g.add_edge(0, 1, 5)\n",
    "g.add_edge(0, 2, 15)"
   ]
  },
  {
   "cell_type": "code",
   "execution_count": 13,
   "id": "4c9275b3",
   "metadata": {},
   "outputs": [
    {
     "data": {
      "text/plain": [
       "{0: <__main__.Node at 0x1aa623f2340>,\n",
       " 1: <__main__.Node at 0x1aa623f2b20>,\n",
       " 2: <__main__.Node at 0x1aa623f2880>}"
      ]
     },
     "execution_count": 13,
     "metadata": {},
     "output_type": "execute_result"
    }
   ],
   "source": [
    "g.nodes"
   ]
  },
  {
   "cell_type": "code",
   "execution_count": 14,
   "id": "feb27895",
   "metadata": {},
   "outputs": [
    {
     "data": {
      "text/plain": [
       "{<__main__.Node at 0x1aa623f2b20>: 5, <__main__.Node at 0x1aa623f2880>: 15}"
      ]
     },
     "execution_count": 14,
     "metadata": {},
     "output_type": "execute_result"
    }
   ],
   "source": [
    "g.nodes[0].adjacent"
   ]
  },
  {
   "cell_type": "code",
   "execution_count": null,
   "id": "e62e2d82",
   "metadata": {},
   "outputs": [],
   "source": []
  }
 ],
 "metadata": {
  "kernelspec": {
   "display_name": "Python 3",
   "language": "python",
   "name": "python3"
  },
  "language_info": {
   "codemirror_mode": {
    "name": "ipython",
    "version": 3
   },
   "file_extension": ".py",
   "mimetype": "text/x-python",
   "name": "python",
   "nbconvert_exporter": "python",
   "pygments_lexer": "ipython3",
   "version": "3.8.8"
  }
 },
 "nbformat": 4,
 "nbformat_minor": 5
}
