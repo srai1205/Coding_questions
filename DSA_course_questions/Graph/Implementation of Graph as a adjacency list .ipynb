{
 "cells": [
  {
   "cell_type": "code",
   "execution_count": 2,
   "id": "8023432e",
   "metadata": {},
   "outputs": [],
   "source": [
    "class Vertex:\n",
    "    def __init__(self,key):\n",
    "        self.id = key  # key is name of vertex\n",
    "        self.connectedTo = {}  # dictionary with contains connections and there weights\n",
    "\n",
    "    def addNeighbor(self,nbr,weight=0):\n",
    "        self.connectedTo[nbr] = weight # nbr stand for neighbour\n",
    "\n",
    "    def __str__(self):\n",
    "        return str(self.id) + ' connectedTo: ' + str([x.id for x in self.connectedTo])\n",
    "\n",
    "    def getConnections(self):\n",
    "        return self.connectedTo.keys()\n",
    "\n",
    "    def getId(self):\n",
    "        return self.id\n",
    "\n",
    "    def getWeight(self,nbr):\n",
    "        return self.connectedTo[nbr]"
   ]
  },
  {
   "cell_type": "code",
   "execution_count": 20,
   "id": "4f467c24",
   "metadata": {},
   "outputs": [],
   "source": [
    "class Graph:\n",
    "    def __init__(self):\n",
    "        self.vertList = {}\n",
    "        self.numVertices = 0\n",
    "\n",
    "    def addVertex(self,key):\n",
    "        self.numVertices = self.numVertices + 1\n",
    "        newVertex = Vertex(key)\n",
    "        self.vertList[key] = newVertex\n",
    "        return newVertex\n",
    "\n",
    "    def getVertex(self,n):\n",
    "        if n in self.vertList:\n",
    "            return self.vertList[n]\n",
    "        else:\n",
    "            return None\n",
    "\n",
    "    def __contains__(self,n):\n",
    "        return n in self.vertList\n",
    "\n",
    "    def addEdge(self,f,t,cost=0):\n",
    "        if f not in self.vertList:\n",
    "            nv = self.addVertex(f)\n",
    "        if t not in self.vertList:\n",
    "            nv = self.addVertex(t)\n",
    "        self.vertList[f].addNeighbor(self.vertList[t], cost)\n",
    "\n",
    "    def getVertices(self):\n",
    "        return self.vertList.keys()\n",
    "\n",
    "    def __iter__(self):\n",
    "        return iter(self.vertList.values())"
   ]
  },
  {
   "cell_type": "code",
   "execution_count": 14,
   "id": "86f47aa8",
   "metadata": {},
   "outputs": [],
   "source": [
    "g = Graph()\n",
    "for i in range(6):\n",
    "    g.addVertex(i)"
   ]
  },
  {
   "cell_type": "code",
   "execution_count": 15,
   "id": "3d07d1d8",
   "metadata": {},
   "outputs": [
    {
     "data": {
      "text/plain": [
       "{0: <__main__.Vertex at 0x1f81f4d3e80>,\n",
       " 1: <__main__.Vertex at 0x1f81f4d3ca0>,\n",
       " 2: <__main__.Vertex at 0x1f81f4d3850>,\n",
       " 3: <__main__.Vertex at 0x1f81f4d3fd0>,\n",
       " 4: <__main__.Vertex at 0x1f81f4d3250>,\n",
       " 5: <__main__.Vertex at 0x1f81f4d3880>}"
      ]
     },
     "execution_count": 15,
     "metadata": {},
     "output_type": "execute_result"
    }
   ],
   "source": [
    "g.vertList"
   ]
  },
  {
   "cell_type": "code",
   "execution_count": 16,
   "id": "fcae44ab",
   "metadata": {},
   "outputs": [
    {
     "data": {
      "text/plain": [
       "6"
      ]
     },
     "execution_count": 16,
     "metadata": {},
     "output_type": "execute_result"
    }
   ],
   "source": [
    "g.numVertices"
   ]
  },
  {
   "cell_type": "code",
   "execution_count": 17,
   "id": "dbe0623e",
   "metadata": {},
   "outputs": [],
   "source": [
    "g.addEdge(0,1,2)"
   ]
  },
  {
   "cell_type": "code",
   "execution_count": 19,
   "id": "3b79faed",
   "metadata": {},
   "outputs": [
    {
     "name": "stdout",
     "output_type": "stream",
     "text": [
      "0 connectedTo: [1]\n",
      "{<__main__.Vertex object at 0x000001F81F4D3CA0>: 2}\n",
      "\n",
      "\n",
      "1 connectedTo: []\n",
      "{}\n",
      "\n",
      "\n",
      "2 connectedTo: []\n",
      "{}\n",
      "\n",
      "\n",
      "3 connectedTo: []\n",
      "{}\n",
      "\n",
      "\n",
      "4 connectedTo: []\n",
      "{}\n",
      "\n",
      "\n",
      "5 connectedTo: []\n",
      "{}\n",
      "\n",
      "\n"
     ]
    }
   ],
   "source": [
    "for vertex in g:\n",
    "    print(vertex)\n",
    "    print(vertex.connectedTo)\n",
    "    #print(vertex.getConnections())\n",
    "    print ('\\n')"
   ]
  },
  {
   "cell_type": "code",
   "execution_count": 30,
   "id": "bf23b83e",
   "metadata": {},
   "outputs": [
    {
     "data": {
      "text/plain": [
       "{1: ['India'], 2: ['USA'], 3: ['England']}"
      ]
     },
     "execution_count": 30,
     "metadata": {},
     "output_type": "execute_result"
    }
   ],
   "source": [
    "dic = {1:['India'],2:['USA'],3:['England']}\n",
    "dic"
   ]
  },
  {
   "cell_type": "code",
   "execution_count": 25,
   "id": "dae27a99",
   "metadata": {},
   "outputs": [],
   "source": [
    "dic[1] ="
   ]
  },
  {
   "cell_type": "code",
   "execution_count": 31,
   "id": "21f845aa",
   "metadata": {},
   "outputs": [],
   "source": [
    "dic[1].append( 'newland')"
   ]
  },
  {
   "cell_type": "code",
   "execution_count": 32,
   "id": "db2d072c",
   "metadata": {},
   "outputs": [
    {
     "data": {
      "text/plain": [
       "{1: ['India', 'newland'], 2: ['USA'], 3: ['England']}"
      ]
     },
     "execution_count": 32,
     "metadata": {},
     "output_type": "execute_result"
    }
   ],
   "source": [
    "dic"
   ]
  },
  {
   "cell_type": "code",
   "execution_count": null,
   "id": "bbe278c3",
   "metadata": {},
   "outputs": [],
   "source": []
  }
 ],
 "metadata": {
  "kernelspec": {
   "display_name": "Python 3",
   "language": "python",
   "name": "python3"
  },
  "language_info": {
   "codemirror_mode": {
    "name": "ipython",
    "version": 3
   },
   "file_extension": ".py",
   "mimetype": "text/x-python",
   "name": "python",
   "nbconvert_exporter": "python",
   "pygments_lexer": "ipython3",
   "version": "3.8.8"
  }
 },
 "nbformat": 4,
 "nbformat_minor": 5
}
