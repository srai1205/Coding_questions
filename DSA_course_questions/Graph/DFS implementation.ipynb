{
 "cells": [
  {
   "cell_type": "code",
   "execution_count": 35,
   "id": "61ad845d",
   "metadata": {},
   "outputs": [],
   "source": [
    "graph = {'A': set(['B', 'C']),\n",
    "         'B': set(['A', 'D', 'E']),\n",
    "         'C': set(['A', 'F']),\n",
    "         'D': set(['B']),\n",
    "         'E': set(['B', 'F']),\n",
    "         'F': set(['C', 'E'])}"
   ]
  },
  {
   "cell_type": "code",
   "execution_count": 36,
   "id": "2edb7093",
   "metadata": {},
   "outputs": [],
   "source": [
    "# through stack\n",
    "def dfs_stack(graph,start):\n",
    "    out_order= []\n",
    "    stack = []\n",
    "    visited = set()\n",
    "    stack.append(start)\n",
    "    while stack:\n",
    "        val = stack.pop()\n",
    "        if val not in visited:\n",
    "            #print(val)\n",
    "            out_order.append(val)\n",
    "            visited.add(val)\n",
    "            stack.extend(graph[val]-visited)\n",
    "    return out_order\n",
    "            "
   ]
  },
  {
   "cell_type": "code",
   "execution_count": 37,
   "id": "1625959e",
   "metadata": {},
   "outputs": [
    {
     "data": {
      "text/plain": [
       "['A', 'B', 'E', 'F', 'C', 'D']"
      ]
     },
     "execution_count": 37,
     "metadata": {},
     "output_type": "execute_result"
    }
   ],
   "source": [
    "dfs_stack(graph,'A')"
   ]
  },
  {
   "cell_type": "code",
   "execution_count": 22,
   "id": "73ab2eff",
   "metadata": {},
   "outputs": [],
   "source": [
    "# through recussion(In recussion we implicitly use stack)\n",
    "def dfs(graph,start,visited=set()):\n",
    "    visited.add(start)\n",
    "    print(start)\n",
    "    for nxt in graph[start] - visited:\n",
    "        dfs(graph,nxt,visited)\n",
    "    return visited"
   ]
  },
  {
   "cell_type": "code",
   "execution_count": 23,
   "id": "29d04857",
   "metadata": {},
   "outputs": [
    {
     "name": "stdout",
     "output_type": "stream",
     "text": [
      "A\n",
      "B\n",
      "D\n",
      "E\n",
      "F\n",
      "C\n",
      "C\n"
     ]
    },
    {
     "data": {
      "text/plain": [
       "{'A', 'B', 'C', 'D', 'E', 'F'}"
      ]
     },
     "execution_count": 23,
     "metadata": {},
     "output_type": "execute_result"
    }
   ],
   "source": [
    "dfs(graph,'A')"
   ]
  },
  {
   "cell_type": "code",
   "execution_count": 30,
   "id": "731ec4c2",
   "metadata": {},
   "outputs": [],
   "source": [
    "#find out all the possible path from given verties\n",
    "def dfs_paths(graph, start, goal):\n",
    "    stack = [(start, [start])]\n",
    "    while stack:\n",
    "        print('stack is',stack)\n",
    "        (vertex, path) = stack.pop()\n",
    "        for nxt in graph[vertex] - set(path):\n",
    "            print(nxt)\n",
    "            if nxt == goal:\n",
    "                yield path + [nxt] # this will return(yield) all the values which will statisfy if condition\n",
    "            else:\n",
    "                stack.append((nxt, path + [nxt]))\n",
    "\n"
   ]
  },
  {
   "cell_type": "code",
   "execution_count": 31,
   "id": "8f724ba6",
   "metadata": {},
   "outputs": [
    {
     "name": "stdout",
     "output_type": "stream",
     "text": [
      "stack is [('A', ['A'])]\n",
      "C\n",
      "B\n",
      "stack is [('C', ['A', 'C']), ('B', ['A', 'B'])]\n",
      "D\n",
      "E\n",
      "stack is [('C', ['A', 'C']), ('D', ['A', 'B', 'D']), ('E', ['A', 'B', 'E'])]\n",
      "F\n",
      "stack is [('C', ['A', 'C']), ('D', ['A', 'B', 'D'])]\n",
      "stack is [('C', ['A', 'C'])]\n",
      "F\n"
     ]
    },
    {
     "data": {
      "text/plain": [
       "[['A', 'B', 'E', 'F'], ['A', 'C', 'F']]"
      ]
     },
     "execution_count": 31,
     "metadata": {},
     "output_type": "execute_result"
    }
   ],
   "source": [
    "list(dfs_paths(graph, 'A', 'F'))"
   ]
  },
  {
   "cell_type": "code",
   "execution_count": 27,
   "id": "317de7b1",
   "metadata": {},
   "outputs": [],
   "source": [
    "graph = {'A': set(['B', 'C']),\n",
    "         'B': set(['A', 'D', 'E']),\n",
    "         'C': set(['A', 'F']),\n",
    "         'D': set(['B']),\n",
    "         'E': set(['B', 'F']),\n",
    "         'F': set(['C', 'E'])}"
   ]
  },
  {
   "cell_type": "code",
   "execution_count": 54,
   "id": "e16698b4",
   "metadata": {},
   "outputs": [],
   "source": [
    "#x = set()\n",
    "z = {'A','C','B'}\n",
    "#print(x,type(x))"
   ]
  },
  {
   "cell_type": "code",
   "execution_count": 55,
   "id": "81bc21a7",
   "metadata": {},
   "outputs": [],
   "source": [
    "\n",
    "y = {'A','d','a'}\n",
    "stack = []\n",
    "stack.extend(z-y)"
   ]
  },
  {
   "cell_type": "code",
   "execution_count": 56,
   "id": "8783ed81",
   "metadata": {},
   "outputs": [
    {
     "data": {
      "text/plain": [
       "['C', 'B']"
      ]
     },
     "execution_count": 56,
     "metadata": {},
     "output_type": "execute_result"
    }
   ],
   "source": [
    "stack"
   ]
  },
  {
   "cell_type": "code",
   "execution_count": 57,
   "id": "672a7ed6",
   "metadata": {},
   "outputs": [
    {
     "data": {
      "text/plain": [
       "'B'"
      ]
     },
     "execution_count": 57,
     "metadata": {},
     "output_type": "execute_result"
    }
   ],
   "source": [
    "stack.pop()"
   ]
  },
  {
   "cell_type": "code",
   "execution_count": null,
   "id": "4fe4571e",
   "metadata": {},
   "outputs": [],
   "source": []
  }
 ],
 "metadata": {
  "kernelspec": {
   "display_name": "Python 3 (ipykernel)",
   "language": "python",
   "name": "python3"
  },
  "language_info": {
   "codemirror_mode": {
    "name": "ipython",
    "version": 3
   },
   "file_extension": ".py",
   "mimetype": "text/x-python",
   "name": "python",
   "nbconvert_exporter": "python",
   "pygments_lexer": "ipython3",
   "version": "3.8.12"
  }
 },
 "nbformat": 4,
 "nbformat_minor": 5
}
