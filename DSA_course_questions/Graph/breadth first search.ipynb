{
 "cells": [
  {
   "cell_type": "code",
   "execution_count": 2,
   "id": "df64f40c",
   "metadata": {},
   "outputs": [],
   "source": [
    "graph = {'A': set(['B', 'C']),\n",
    "         'B': set(['A', 'D', 'E']),\n",
    "         'C': set(['A', 'F']),\n",
    "         'D': set(['B']),\n",
    "         'E': set(['B', 'F']),\n",
    "         'F': set(['C', 'E'])}"
   ]
  },
  {
   "cell_type": "code",
   "execution_count": 19,
   "id": "faff9b12",
   "metadata": {},
   "outputs": [],
   "source": [
    "def BFS(graph,start):\n",
    "    visited = set()\n",
    "    queue = [start]\n",
    "    while queue:\n",
    "        val = queue.pop(0)\n",
    "        if val not in visited:\n",
    "            visited.add(val)\n",
    "            print(val)\n",
    "            queue.extend(graph[val] - visited)\n",
    "    return visited\n"
   ]
  },
  {
   "cell_type": "code",
   "execution_count": 20,
   "id": "d42b5b75",
   "metadata": {},
   "outputs": [
    {
     "name": "stdout",
     "output_type": "stream",
     "text": [
      "A\n",
      "B\n",
      "C\n",
      "D\n",
      "E\n",
      "F\n"
     ]
    },
    {
     "data": {
      "text/plain": [
       "{'A', 'B', 'C', 'D', 'E', 'F'}"
      ]
     },
     "execution_count": 20,
     "metadata": {},
     "output_type": "execute_result"
    }
   ],
   "source": [
    "BFS(graph,'A')"
   ]
  },
  {
   "cell_type": "code",
   "execution_count": 18,
   "id": "4158b30f",
   "metadata": {},
   "outputs": [],
   "source": [
    "import collections \n",
    "def BFS_queue(graph,start):\n",
    "    visited = set()\n",
    "    queue = collections.deque()\n",
    "    queue.append(start)\n",
    "    while queue:\n",
    "        val = queue.popleft()\n",
    "        #print(\"value of val\",val)\n",
    "        if val not in visited:\n",
    "            visited.add(val)\n",
    "            print(val)\n",
    "            queue.extend(graph[val] - visited)\n",
    "    return visited"
   ]
  },
  {
   "cell_type": "code",
   "execution_count": 21,
   "id": "3fac8639",
   "metadata": {},
   "outputs": [
    {
     "name": "stdout",
     "output_type": "stream",
     "text": [
      "A\n",
      "B\n",
      "C\n",
      "D\n",
      "E\n",
      "F\n"
     ]
    },
    {
     "data": {
      "text/plain": [
       "{'A', 'B', 'C', 'D', 'E', 'F'}"
      ]
     },
     "execution_count": 21,
     "metadata": {},
     "output_type": "execute_result"
    }
   ],
   "source": [
    "BFS_queue(graph,'A')"
   ]
  },
  {
   "cell_type": "code",
   "execution_count": 22,
   "id": "ca3f61ee",
   "metadata": {},
   "outputs": [],
   "source": [
    "##find out all the possible path from given verties\n",
    "def bfs_paths(graph, start, goal):\n",
    "    queue = [(start,[start])]\n",
    "    visited = set() \n",
    "    while queue:\n",
    "        ex = queue.pop(0)\n",
    "        #print(graph[ex[0]],ex[1])\n",
    "        #print(queue)\n",
    "        for nxt in graph[ex[0]] - set(ex[1]):\n",
    "            #print(nxt)\n",
    "            if nxt == goal:\n",
    "                yield ex[1] + [nxt]\n",
    "            else:\n",
    "                if ex[0] not in visited:\n",
    "                    queue.extend([(nxt,ex[1] + [nxt])])\n",
    "            print(queue)"
   ]
  },
  {
   "cell_type": "code",
   "execution_count": 23,
   "id": "3369b917",
   "metadata": {},
   "outputs": [
    {
     "name": "stdout",
     "output_type": "stream",
     "text": [
      "[('C', ['A', 'C'])]\n",
      "[('C', ['A', 'C']), ('B', ['A', 'B'])]\n",
      "[('B', ['A', 'B'])]\n",
      "[('D', ['A', 'B', 'D'])]\n",
      "[('D', ['A', 'B', 'D']), ('E', ['A', 'B', 'E'])]\n",
      "[]\n"
     ]
    },
    {
     "data": {
      "text/plain": [
       "[['A', 'C', 'F'], ['A', 'B', 'E', 'F']]"
      ]
     },
     "execution_count": 23,
     "metadata": {},
     "output_type": "execute_result"
    }
   ],
   "source": [
    "list(bfs_paths(graph, 'A', 'F'))\n"
   ]
  },
  {
   "cell_type": "code",
   "execution_count": 5,
   "id": "239b4a9a",
   "metadata": {},
   "outputs": [
    {
     "data": {
      "text/plain": [
       "['A', 'C', 'F']"
      ]
     },
     "execution_count": 5,
     "metadata": {},
     "output_type": "execute_result"
    }
   ],
   "source": [
    "def shortest_path(graph, start, goal):\n",
    "    try:\n",
    "        return next(bfs_paths(graph, start, goal)) # we use next over here because its guaranteed that the first itration of BFS will give shortest path\n",
    "    except StopIteration:\n",
    "        return None\n",
    "\n",
    "shortest_path(graph, 'A', 'F')\n",
    "        "
   ]
  },
  {
   "cell_type": "code",
   "execution_count": 25,
   "id": "1c258017",
   "metadata": {},
   "outputs": [
    {
     "name": "stdout",
     "output_type": "stream",
     "text": [
      "Python 3.8.8\n"
     ]
    }
   ],
   "source": [
    "graph = {'A': set(['B', 'C']),\n",
    "         'B': set(['A', 'D', 'E']),\n",
    "         'C': set(['A', 'F']),\n",
    "         'D': set(['B']),\n",
    "         'E': set(['B', 'F']),\n",
    "         'F': set(['C', 'E'])}"
   ]
  },
  {
   "cell_type": "code",
   "execution_count": null,
   "id": "ec4e2d9a",
   "metadata": {},
   "outputs": [],
   "source": []
  }
 ],
 "metadata": {
  "kernelspec": {
   "display_name": "Python 3 (ipykernel)",
   "language": "python",
   "name": "python3"
  },
  "language_info": {
   "codemirror_mode": {
    "name": "ipython",
    "version": 3
   },
   "file_extension": ".py",
   "mimetype": "text/x-python",
   "name": "python",
   "nbconvert_exporter": "python",
   "pygments_lexer": "ipython3",
   "version": "3.8.12"
  }
 },
 "nbformat": 4,
 "nbformat_minor": 5
}
